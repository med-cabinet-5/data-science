{
  "nbformat": 4,
  "nbformat_minor": 0,
  "metadata": {
    "colab": {
      "name": "launch_nlp.ipynb",
      "provenance": [],
      "collapsed_sections": []
    },
    "kernelspec": {
      "name": "python3",
      "display_name": "Python 3"
    }
  },
  "cells": [
    {
      "cell_type": "code",
      "metadata": {
        "id": "AwDE-6L3jneE",
        "colab_type": "code",
        "outputId": "b9e28aef-b791-4688-b665-21f462deeb89",
        "colab": {
          "base_uri": "https://localhost:8080/",
          "height": 125
        }
      },
      "source": [
        "!pip install q scikit-learn==0.22 #Changed sklearn version to stop warning\n",
        "import pickle\n",
        "from google.colab.files import upload\n",
        "from sklearn.feature_extraction.text import TfidfVectorizer\n",
        "from sklearn.neighbors import NearestNeighbors\n",
        "import pandas as pd"
      ],
      "execution_count": 0,
      "outputs": [
        {
          "output_type": "stream",
          "text": [
            "Requirement already satisfied: q in /usr/local/lib/python3.6/dist-packages (2.6)\n",
            "Requirement already satisfied: scikit-learn==0.22 in /usr/local/lib/python3.6/dist-packages (0.22)\n",
            "Requirement already satisfied: numpy>=1.11.0 in /usr/local/lib/python3.6/dist-packages (from scikit-learn==0.22) (1.17.5)\n",
            "Requirement already satisfied: scipy>=0.17.0 in /usr/local/lib/python3.6/dist-packages (from scikit-learn==0.22) (1.4.1)\n",
            "Requirement already satisfied: joblib>=0.11 in /usr/local/lib/python3.6/dist-packages (from scikit-learn==0.22) (0.14.1)\n"
          ],
          "name": "stdout"
        }
      ]
    },
    {
      "cell_type": "code",
      "metadata": {
        "id": "jCKGsU_GjvTJ",
        "colab_type": "code",
        "colab": {}
      },
      "source": [
        "uploaded = upload()"
      ],
      "execution_count": 0,
      "outputs": []
    },
    {
      "cell_type": "code",
      "metadata": {
        "id": "mg7clpMitDDA",
        "colab_type": "code",
        "colab": {}
      },
      "source": [
        "def pred_list(x):\n",
        "    \"\"\"\n",
        "    x = string to predict from (description)\n",
        "    1. Predict the nearest neighbors to the inputted description\n",
        "    2. Predict what type of cannabis the user is looking for with probability\n",
        "       \n",
        "    \"\"\"\n",
        "    # Read in data\n",
        "    df = pd.read_csv(\"canna.csv\")\n",
        "    # Fill NaN with empty strings\n",
        "    df = df.fillna(\"\")\n",
        "\n",
        "    # Instantiate vectorizer object\n",
        "    tfidf = TfidfVectorizer(stop_words=\"english\", min_df=0.025, max_df=.98, ngram_range=(1,3))\n",
        "\n",
        "    # Create a vocabulary and get word counts per document\n",
        "    dtm = tfidf.fit_transform(df['alltext'])\n",
        "\n",
        "    # Get feature names to use as dataframe column headers\n",
        "    dtm = pd.DataFrame(dtm.todense(), columns=tfidf.get_feature_names())\n",
        "    \n",
        "    # Fit on TF-IDF Vectors\n",
        "    nn = NearestNeighbors(n_neighbors=5, algorithm=\"kd_tree\", radius=0.5)\n",
        "    nn.fit(dtm)\n",
        "\n",
        "    # Turn Review into a list, transform, and predict\n",
        "    review = [x]\n",
        "    new = tfidf.transform(review)\n",
        "    pred = nn.kneighbors(new.todense())[1][0]\n",
        "\n",
        "    \n",
        "    #create empty list\n",
        "    pred_dict = []\n",
        "    for x in pred:\n",
        "        # add new dictionary to pred_dict containing predictions\n",
        "        preds_list ={\"strain\":df[\"Strain\"][x],\n",
        "                     \"type\": df[\"Type_raw\"][x],\n",
        "                     \"description\": df[\"Description_raw\"][x],\n",
        "                     \"flavor\": df[\"Flavor_raw\"][x],\n",
        "                     \"effects\": df[\"Effects_raw\"][x],\n",
        "                     \"ailments\": df[\"Ailment_raw\"][x]}\n",
        "        pred_dict.append(preds_list)\n",
        "    \n",
        "    # Load data for model 2\n",
        "    model = pickle.load(open(\"stretch.sav\", \"rb\"))\n",
        "    #Pull result out\n",
        "    pred_2 = model.predict(review)[0]\n",
        " \n",
        "    #Grab max predict proba                   \n",
        "    predict_proba = model.predict_proba(review)[0].max() * 100\n",
        "\n",
        "    # Mapper to change result into string\n",
        "    mapper = ({5: \"Hybrid\",\n",
        "           4: \"Indica\",\n",
        "           3: \"Sativa\",\n",
        "           2: \"Hybrid, Indica\",\n",
        "           1: \"Sativa, Hybrid\"})\n",
        "    \n",
        "    # Apply mapper to newly made Series\n",
        "    strain_type = pd.Series(pred_2).map(mapper)[0]\n",
        "    \n",
        "    # Create new dictionary element\n",
        "    new_dict = {\"proba\":f\"There is a {round(predict_proba, 2)}% that your looking for a {strain_type}\"}\n",
        "    \n",
        "    # Add new dicitonary to list of dictionaries\n",
        "    pred_dict.append(new_dict)\n",
        "\n",
        "    return pred_dict"
      ],
      "execution_count": 0,
      "outputs": []
    },
    {
      "cell_type": "code",
      "metadata": {
        "id": "3Tx0g-2-0t4W",
        "colab_type": "code",
        "outputId": "95dd9f1b-7707-4017-d3a0-65739768a4f0",
        "colab": {
          "base_uri": "https://localhost:8080/",
          "height": 584
        }
      },
      "source": [
        "ls = pred_list(\"I need help going to sleep at night\")\n",
        "ls"
      ],
      "execution_count": 27,
      "outputs": [
        {
          "output_type": "execute_result",
          "data": {
            "text/plain": [
              "[{'ailments': '',\n",
              "  'description': \"BSC is a hybrid cannabis strain that follows in the footsteps of its Girl Scout Cookies parent, but named for the youthful scouting group's male\\xa0equivalant.\\xa0With potent effects that hug the mind and body in tranquil euphoria BSC\\xa0introduces deep, heavy relaxation throughout the body, but not before making your head reel with calm and happy thoughts. The cerebral buzz tapers down into a foggy daze that helps you abandon worries and slide into a low-key afternoon or a restful night’s sleep. Putting your nose in a jar of BSC\\xa0isn’t altogether unlike stealing a smell from the cookie jar in your kitchen as sweet, earthy aromas burst forth with subtle notes of woody pine.\",\n",
              "  'effects': 'Giggly, Happy, Euphoric, Relaxed, Hungry',\n",
              "  'flavor': 'Earthy, Pungent, Sweet',\n",
              "  'strain': 'Bsc',\n",
              "  'type': 'Hybrid'},\n",
              " {'ailments': '',\n",
              "  'description': 'Ortega by Mr. Nice Seeds is an indica strain bred from Northern Lights genetics. Since its creation in the mid-1980s, Oretga has\\xa0offered growers heavy yields of resinous, sweet-smelling buds that finish flowering in just 6 to 8 weeks. Its effects are heavily tranquilizing and help to\\xa0usher in sleep with late night use.\\xa0',\n",
              "  'effects': 'Giggly, Euphoric, Relaxed, Uplifted, Sleepy',\n",
              "  'flavor': 'Earthy, Spicy, Pepper, Herbal',\n",
              "  'strain': 'Ortega',\n",
              "  'type': 'Indica'},\n",
              " {'ailments': 'Stress, Pain, Muscle, Insomnia, Spasm',\n",
              "  'description': ' Night Nurse is an indica-dominant strain from Reeferman Seeds that combines genetics from BC Hash Plant, Harmony, and Fire OG. It’s commonly used to fight anxiety, stress, insomnia and chronic pain. Are you having trouble sleeping? This 80/20 indica provides a polite balance of relaxing cerebral and body effects, making this the perfect nighttime sleeping aid.',\n",
              "  'effects': 'Happy, Euphoric, Relaxed, Hungry, Mouth, Dry, Tingly, Sleepy',\n",
              "  'flavor': 'Earthy, Sweet, Diesel',\n",
              "  'strain': 'Night Nurse',\n",
              "  'type': 'Hybrid, Indica'},\n",
              " {'ailments': '',\n",
              "  'description': 'Fruity Pebbles (AKA Fruity Pebbles OG) by Alien Genetics was a limited-time offering from the breeder. This sweet hybrid takes genetics from Green Ribbon, Granddaddy Purple, and Tahoe Alien\\xa0to create a tropical, berry flavor reminiscent of the cereal. The euphoric effects will keep you happy when you’re stressed and help you catch some sleep when faced with insomnia. Sit back, relax, and pour yourself a bowl of Fruity Pebbles!',\n",
              "  'effects': 'Happy, Giggly, Euphoric, Relaxed, Uplifted',\n",
              "  'flavor': 'Tropical, Sweet, Berry',\n",
              "  'strain': 'Fruity Pebble',\n",
              "  'type': 'Hybrid'},\n",
              " {'ailments': '',\n",
              "  'description': 'Air Jordan OG, grown exclusively by Good as Gold in California, is a pure indica strain that packs a punch. Don’t let the name fool you: Air Jordan OG’s potent, sedating effects will have you melting deep into the couch, priming you for a nap or good night’s sleep. This strain delivers its sleepy, relaxing effects with sharp aromas of wood and fresh pine. \\xa0',\n",
              "  'effects': 'Happy, Euphoric, Relaxed, Tingly, Sleepy',\n",
              "  'flavor': 'Herbal, Spicy, Diesel, Pine',\n",
              "  'strain': 'Air Jordan Og',\n",
              "  'type': 'Indica'},\n",
              " {'proba': 'There is a 79.06% that your looking for a Hybrid'}]"
            ]
          },
          "metadata": {
            "tags": []
          },
          "execution_count": 27
        }
      ]
    },
    {
      "cell_type": "code",
      "metadata": {
        "id": "Ng3W5dzmGtD6",
        "colab_type": "code",
        "colab": {}
      },
      "source": [
        ""
      ],
      "execution_count": 0,
      "outputs": []
    }
  ]
}