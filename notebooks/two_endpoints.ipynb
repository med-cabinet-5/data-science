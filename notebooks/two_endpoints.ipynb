{
  "nbformat": 4,
  "nbformat_minor": 0,
  "metadata": {
    "colab": {
      "name": "launch_nlp_notes.ipynb",
      "provenance": []
    },
    "kernelspec": {
      "name": "python3",
      "display_name": "Python 3"
    }
  },
  "cells": [
    {
      "cell_type": "code",
      "metadata": {
        "id": "BnRFx0rsED0F",
        "colab_type": "code",
        "outputId": "80252540-7bb1-4e38-8c89-7556db194e9c",
        "colab": {
          "base_uri": "https://localhost:8080/",
          "height": 270
        }
      },
      "source": [
        "!pip install q scikit-learn==0.22 #Changed sklearn version to stop warning\n",
        "import pickle\n",
        "from google.colab.files import upload\n",
        "from sklearn.feature_extraction.text import TfidfVectorizer\n",
        "from sklearn.neighbors import NearestNeighbors\n",
        "import pandas as pd\n",
        "from collections import Counter"
      ],
      "execution_count": 0,
      "outputs": [
        {
          "output_type": "stream",
          "text": [
            "Collecting q\n",
            "  Downloading https://files.pythonhosted.org/packages/53/bc/51619d89e0bd855567e7652fa16d06f1ed36a85f108a7fe71f6629bf719d/q-2.6-py2.py3-none-any.whl\n",
            "Collecting scikit-learn==0.22\n",
            "\u001b[?25l  Downloading https://files.pythonhosted.org/packages/2e/d0/860c4f6a7027e00acff373d9f5327f4ae3ed5872234b3cbdd7bcb52e5eff/scikit_learn-0.22-cp36-cp36m-manylinux1_x86_64.whl (7.0MB)\n",
            "\u001b[K     |████████████████████████████████| 7.0MB 3.4MB/s \n",
            "\u001b[?25hRequirement already satisfied: scipy>=0.17.0 in /usr/local/lib/python3.6/dist-packages (from scikit-learn==0.22) (1.4.1)\n",
            "Requirement already satisfied: joblib>=0.11 in /usr/local/lib/python3.6/dist-packages (from scikit-learn==0.22) (0.14.1)\n",
            "Requirement already satisfied: numpy>=1.11.0 in /usr/local/lib/python3.6/dist-packages (from scikit-learn==0.22) (1.17.5)\n",
            "Installing collected packages: q, scikit-learn\n",
            "  Found existing installation: scikit-learn 0.22.1\n",
            "    Uninstalling scikit-learn-0.22.1:\n",
            "      Successfully uninstalled scikit-learn-0.22.1\n",
            "Successfully installed q-2.6 scikit-learn-0.22\n"
          ],
          "name": "stdout"
        }
      ]
    },
    {
      "cell_type": "markdown",
      "metadata": {
        "id": "gwZcPXAcEP6T",
        "colab_type": "text"
      },
      "source": [
        "# Globals"
      ]
    },
    {
      "cell_type": "code",
      "metadata": {
        "id": "raAeVLaQENGB",
        "colab_type": "code",
        "colab": {}
      },
      "source": [
        "url = \"https://raw.githubusercontent.com/med-cabinet-5/data-science/master/data/canna.csv\"\n",
        "# Read in data\n",
        "df = pd.read_csv(url)\n",
        "# Fill NaN with empty strings\n",
        "df = df.fillna(\"\")\n",
        "\n",
        "def lister(x):\n",
        "    \"\"\"Function to return top seen words from a desired column\"\"\"\n",
        "    # make new df from preds\n",
        "    df_preds = df.loc[pred]\n",
        "    # make empty list\n",
        "    word_ls = []\n",
        "\n",
        "    # loop over items in desired column and append into a list and title it\n",
        "    for x in df_preds[x]:\n",
        "        x = x.split(\" \")\n",
        "        for x in x:\n",
        "            word_ls.append(x.strip(\",\").title())\n",
        "\n",
        "    # Count the number of times each element appears\n",
        "    count = Counter(word_ls)\n",
        "    \n",
        "    # Create new empty list\n",
        "    word_ls = []\n",
        "\n",
        "    # Loop over first 3 most common elements and join together in a string\n",
        "    for x in range(3):\n",
        "        word_ls.append(count.most_common(3)[x][0])\n",
        "    result = \", \".join(word_ls)\n",
        "\n",
        "    return result\n",
        "\n",
        "def starter(x):\n",
        "\n",
        "    # Instantiate vectorizer object\n",
        "    tfidf = TfidfVectorizer(stop_words=\"english\", min_df=0.025, max_df=.98, ngram_range=(1,3))\n",
        "\n",
        "    # Create a vocabulary and get word counts per document\n",
        "    dtm = tfidf.fit_transform(df['alltext'])\n",
        "\n",
        "    # Get feature names to use as dataframe column headers\n",
        "    dtm = pd.DataFrame(dtm.todense(), columns=tfidf.get_feature_names())\n",
        "    \n",
        "    # Fit on TF-IDF Vectors and return 30 neighbors\n",
        "    nn = NearestNeighbors(n_neighbors=30, algorithm=\"kd_tree\", radius=0.5)\n",
        "    nn.fit(dtm)\n",
        "    \n",
        "    # Turn Review into a list, transform, and predict\n",
        "    review = [x]\n",
        "    new = tfidf.transform(review)\n",
        "    \n",
        "    global pred\n",
        "    pred = nn.kneighbors(new.todense())[1][0]\n",
        "\n",
        "    return"
      ],
      "execution_count": 0,
      "outputs": []
    },
    {
      "cell_type": "markdown",
      "metadata": {
        "id": "cQcyenWoFHYF",
        "colab_type": "text"
      },
      "source": [
        "# Endpoint 1"
      ]
    },
    {
      "cell_type": "code",
      "metadata": {
        "id": "mg7clpMitDDA",
        "colab_type": "code",
        "colab": {}
      },
      "source": [
        "def pred_list(x):\n",
        "    \"\"\"\n",
        "    x = string to predict from (description)\n",
        "    1. Predict the nearest neighbors to the inputted description\n",
        "    2. Predict what type of cannabis the user is looking for with probability\n",
        "       \n",
        "    \"\"\"\n",
        "    starter(x)\n",
        "\n",
        "    #create empty list\n",
        "    pred_dict = []\n",
        "\n",
        "    # only loop through 5 closest neighbors\n",
        "    for x in pred[:5]:\n",
        "        # add new dictionary to pred_dict containing predictions\n",
        "        preds_list ={\"strain\":df[\"Strain\"][x],\n",
        "                     \"type\": df[\"Type_raw\"][x],\n",
        "                     \"description\": df[\"Description_raw\"][x],\n",
        "                     \"flavor\": df[\"Flavor_raw\"][x],\n",
        "                     \"effects\": df[\"Effects_raw\"][x],\n",
        "                     \"ailments\": df[\"Ailment_raw\"][x]}\n",
        "        pred_dict.append(preds_list)\n",
        "    \n",
        "    return pred_dict"
      ],
      "execution_count": 0,
      "outputs": []
    },
    {
      "cell_type": "code",
      "metadata": {
        "id": "4u34vIVbE9iA",
        "colab_type": "code",
        "outputId": "984f531e-f3e7-43c1-aa3e-3ae5b9e4114c",
        "colab": {
          "base_uri": "https://localhost:8080/",
          "height": 575
        }
      },
      "source": [
        "pred_list(\"I want to feel uplifted happy\")"
      ],
      "execution_count": 0,
      "outputs": [
        {
          "output_type": "execute_result",
          "data": {
            "text/plain": [
              "[{'ailments': '',\n",
              "  'description': 'Two superstars from the Dutch cannabis scene mingle together to rejuvenate genetics from decades passed into an intriguing hybrid that gained popularity in Colorado’s medical market for being both potent and flavorful. Dutch Treat Haze has a complex but undoubtable Haze aroma of pungent earthy tones from Super Silver Haze\\xa0with the influence of Dutch Treat’s crisp, fruity, and floral flavors to create a captivating sativa-dominant hybrid. Its heady sativa effects are felt almost immediately with an energetic burst of creativity and sociability that uplift your mood and stimulate the appetite.\\xa0',\n",
              "  'effects': 'Happy, Euphoric, Relaxed, Energetic, Uplifted',\n",
              "  'flavor': 'Berry, Earthy, Citrus',\n",
              "  'strain': 'Dutch Treat Haze',\n",
              "  'type': 'Hybrid'},\n",
              " {'ailments': '',\n",
              "  'description': 'Afwreck is a hybrid cross of Afghani and Trainwreck. \\xa0Strong sativa effects with immediate head-concentrated high.',\n",
              "  'effects': 'Happy, Euphoric, Relaxed, Uplifted, Sleepy',\n",
              "  'flavor': 'Earthy, Pungent, Pine',\n",
              "  'strain': 'Afwreck',\n",
              "  'type': 'Hybrid'},\n",
              " {'ailments': '',\n",
              "  'description': 'Sour Alien, bred by Cali Connection, is a 60% indica-dominant\\xa0hybrid cross between Alien Kush and Sour Diesel.',\n",
              "  'effects': 'Giggly, Happy, Relaxed, Creative, Uplifted',\n",
              "  'flavor': 'Pungent, Lemon, Diesel',\n",
              "  'strain': 'Sour Alien',\n",
              "  'type': 'Hybrid'},\n",
              " {'ailments': '',\n",
              "  'description': 'Harry Potter is an otherworldly hybrid strain that crosses Blissful Wizard with Fire Alien Kush. Bred by Sasquatch Gardens in California, Harry Potter casts a pacifying spell over the body, easing aches and pains while hushing anxiety.\\xa0',\n",
              "  'effects': 'Giggly, Happy, Relaxed, Creative, Uplifted',\n",
              "  'flavor': 'Lemon, Sweet, Citrus',\n",
              "  'strain': 'Harry Potter',\n",
              "  'type': 'Hybrid'},\n",
              " {'ailments': '',\n",
              "  'description': 'Granddaddy Purple crossed with Mr. Nice. \\xa0This strain captures the purple color of GDP and the smell and taste of Mr. Nice. \\xa0A very powerful indica\\xa0that has a high probability of fuzzy couch-lock.',\n",
              "  'effects': 'Happy, Euphoric, Relaxed, Uplifted, Sleepy',\n",
              "  'flavor': 'Earthy, Grape, Pine',\n",
              "  'strain': 'Purple Mr Nice',\n",
              "  'type': 'Indica'}]"
            ]
          },
          "metadata": {
            "tags": []
          },
          "execution_count": 59
        }
      ]
    },
    {
      "cell_type": "markdown",
      "metadata": {
        "id": "nmo65FEKFOiB",
        "colab_type": "text"
      },
      "source": [
        "# Endpoint 2"
      ]
    },
    {
      "cell_type": "code",
      "metadata": {
        "id": "oGxjQ9sVFDd1",
        "colab_type": "code",
        "colab": {}
      },
      "source": [
        "def pred_list2(x):\n",
        "\n",
        "    starter(x)\n",
        "\n",
        "    # Create initial dictionary with tops from relevant columns\n",
        "    test_dict = {\"top_effects\": lister(\"Effects_raw\"),\n",
        "                 \"top_flavors\": lister(\"Flavor_raw\"),\n",
        "                 \"top_ailments\": lister(\"Ailment_raw\")\n",
        "                }\n",
        "\n",
        "\n",
        "    model = pickle.load(open(\"stretch.sav\", \"rb\"))\n",
        "    #Pull result out\n",
        "    pred_2 = model.predict(review)[0]\n",
        " \n",
        "    #Grab max predict proba                   \n",
        "    predict_proba = model.predict_proba(review)[0].max() * 100\n",
        "\n",
        "    # Mapper to change result into string\n",
        "    mapper = ({5: \"Hybrid\",\n",
        "               4: \"Indica\",\n",
        "               3: \"Sativa\",\n",
        "               2: \"Hybrid, Indica\",\n",
        "               1: \"Sativa, Hybrid\"})\n",
        "    \n",
        "    # Apply mapper to newly made Series\n",
        "    strain_type = pd.Series(pred_2).map(mapper)[0]\n",
        "    \n",
        "    # Add new entry\n",
        "    test_dict[\"proba\"] = f\"There is a {round(predict_proba, 2)}% that your looking for a {strain_type}\"  \n",
        "\n",
        "    return test_dict, pred"
      ],
      "execution_count": 0,
      "outputs": []
    },
    {
      "cell_type": "code",
      "metadata": {
        "id": "bHGdydf_FYht",
        "colab_type": "code",
        "outputId": "fa42a4f2-08a8-4f86-cbb9-fc9703fc38a0",
        "colab": {
          "base_uri": "https://localhost:8080/",
          "height": 143
        }
      },
      "source": [
        "pred_list2(\"I want to feel uplifted happy\")"
      ],
      "execution_count": 0,
      "outputs": [
        {
          "output_type": "execute_result",
          "data": {
            "text/plain": [
              "({'proba': 'There is a 69.72% that your looking for a Indica',\n",
              "  'top_ailments': ', Pain, Depression',\n",
              "  'top_effects': 'Happy, Uplifted, Relaxed',\n",
              "  'top_flavors': 'Earthy, Sweet, Citrus'},\n",
              " array([ 748,   56, 1946, 1013, 1728,  347,  275, 1086,  159, 1589, 1063,\n",
              "        1343,  882,  998,  632,  609,  125, 2254, 1317, 1722, 1195,  314,\n",
              "        2038, 1803, 1914,   25, 1281,  265,  626, 1775]))"
            ]
          },
          "metadata": {
            "tags": []
          },
          "execution_count": 61
        }
      ]
    },
    {
      "cell_type": "code",
      "metadata": {
        "id": "XG_wT5lbF0hm",
        "colab_type": "code",
        "outputId": "33428e8f-bc9f-4ebb-eba5-2b482d146050",
        "colab": {
          "base_uri": "https://localhost:8080/",
          "height": 556
        }
      },
      "source": [
        "#check to make sure preds from pred_list match with preds from pred_list2\n",
        "df.loc[pred[:5]]"
      ],
      "execution_count": 0,
      "outputs": [
        {
          "output_type": "execute_result",
          "data": {
            "text/html": [
              "<div>\n",
              "<style scoped>\n",
              "    .dataframe tbody tr th:only-of-type {\n",
              "        vertical-align: middle;\n",
              "    }\n",
              "\n",
              "    .dataframe tbody tr th {\n",
              "        vertical-align: top;\n",
              "    }\n",
              "\n",
              "    .dataframe thead th {\n",
              "        text-align: right;\n",
              "    }\n",
              "</style>\n",
              "<table border=\"1\" class=\"dataframe\">\n",
              "  <thead>\n",
              "    <tr style=\"text-align: right;\">\n",
              "      <th></th>\n",
              "      <th>Unnamed: 0</th>\n",
              "      <th>Unnamed: 0.1</th>\n",
              "      <th>Strain</th>\n",
              "      <th>Type_raw</th>\n",
              "      <th>Effects_raw</th>\n",
              "      <th>Ailment_raw</th>\n",
              "      <th>Flavor_raw</th>\n",
              "      <th>Description_raw</th>\n",
              "      <th>labels</th>\n",
              "      <th>Type_lemma</th>\n",
              "      <th>Effects_lemma</th>\n",
              "      <th>Ailment_lemma</th>\n",
              "      <th>Flavor_lemma</th>\n",
              "      <th>Description_lemma</th>\n",
              "      <th>alltext</th>\n",
              "    </tr>\n",
              "  </thead>\n",
              "  <tbody>\n",
              "    <tr>\n",
              "      <th>748</th>\n",
              "      <td>748</td>\n",
              "      <td>748</td>\n",
              "      <td>Dutch Treat Haze</td>\n",
              "      <td>Hybrid</td>\n",
              "      <td>Happy, Euphoric, Relaxed, Energetic, Uplifted</td>\n",
              "      <td></td>\n",
              "      <td>Berry, Earthy, Citrus</td>\n",
              "      <td>Two superstars from the Dutch cannabis scene m...</td>\n",
              "      <td>5</td>\n",
              "      <td>['hybrid']</td>\n",
              "      <td>['energetic', 'happy', 'relaxed', 'euphoric', ...</td>\n",
              "      <td>[]</td>\n",
              "      <td>['earthy', 'Berry', 'Citrus']</td>\n",
              "      <td>['superstar', 'dutch', 'cannabis', 'scene', 'm...</td>\n",
              "      <td>['Undoubtable', 'Intriguing', 'Creativity', ' ...</td>\n",
              "    </tr>\n",
              "    <tr>\n",
              "      <th>56</th>\n",
              "      <td>56</td>\n",
              "      <td>56</td>\n",
              "      <td>Afwreck</td>\n",
              "      <td>Hybrid</td>\n",
              "      <td>Happy, Euphoric, Relaxed, Uplifted, Sleepy</td>\n",
              "      <td></td>\n",
              "      <td>Earthy, Pungent, Pine</td>\n",
              "      <td>Afwreck is a hybrid cross of Afghani and Train...</td>\n",
              "      <td>5</td>\n",
              "      <td>['hybrid']</td>\n",
              "      <td>['happy', 'sleepy', 'relaxed', 'euphoric', 'up...</td>\n",
              "      <td>[]</td>\n",
              "      <td>['earthy', 'Pine', 'pungent']</td>\n",
              "      <td>['Afwreck', 'hybrid', 'cross', 'Afghani', 'Tra...</td>\n",
              "      <td>['  ', 'sativa', 'Hybrid', 'relaxed', 'Effect'...</td>\n",
              "    </tr>\n",
              "    <tr>\n",
              "      <th>1946</th>\n",
              "      <td>1946</td>\n",
              "      <td>1946</td>\n",
              "      <td>Sour Alien</td>\n",
              "      <td>Hybrid</td>\n",
              "      <td>Giggly, Happy, Relaxed, Creative, Uplifted</td>\n",
              "      <td></td>\n",
              "      <td>Pungent, Lemon, Diesel</td>\n",
              "      <td>Sour Alien, bred by Cali Connection, is a 60% ...</td>\n",
              "      <td>5</td>\n",
              "      <td>['hybrid']</td>\n",
              "      <td>['happy', 'giggly', 'relaxed', 'creative', 'Up...</td>\n",
              "      <td>[]</td>\n",
              "      <td>['lemon', 'diesel', 'pungent']</td>\n",
              "      <td>['Sour', 'Alien', 'breed', 'Cali', 'Connection...</td>\n",
              "      <td>['Cali', '  ', 'Hybrid', 'relaxed', 'Lemon', '...</td>\n",
              "    </tr>\n",
              "    <tr>\n",
              "      <th>1013</th>\n",
              "      <td>1013</td>\n",
              "      <td>1013</td>\n",
              "      <td>Harry Potter</td>\n",
              "      <td>Hybrid</td>\n",
              "      <td>Giggly, Happy, Relaxed, Creative, Uplifted</td>\n",
              "      <td></td>\n",
              "      <td>Lemon, Sweet, Citrus</td>\n",
              "      <td>Harry Potter is an otherworldly hybrid strain ...</td>\n",
              "      <td>5</td>\n",
              "      <td>['hybrid']</td>\n",
              "      <td>['happy', 'giggly', 'relaxed', 'creative', 'Up...</td>\n",
              "      <td>[]</td>\n",
              "      <td>['lemon', 'Citrus', 'Sweet']</td>\n",
              "      <td>['Harry', 'Potter', 'otherworldly', 'hybrid', ...</td>\n",
              "      <td>['body', 'Otherworldly', 'Hybrid', 'pacify', '...</td>\n",
              "    </tr>\n",
              "    <tr>\n",
              "      <th>1728</th>\n",
              "      <td>1728</td>\n",
              "      <td>1728</td>\n",
              "      <td>Purple Mr Nice</td>\n",
              "      <td>Indica</td>\n",
              "      <td>Happy, Euphoric, Relaxed, Uplifted, Sleepy</td>\n",
              "      <td></td>\n",
              "      <td>Earthy, Grape, Pine</td>\n",
              "      <td>Granddaddy Purple crossed with Mr. Nice.  This...</td>\n",
              "      <td>4</td>\n",
              "      <td>['Indica']</td>\n",
              "      <td>['happy', 'sleepy', 'relaxed', 'euphoric', 'up...</td>\n",
              "      <td>[]</td>\n",
              "      <td>['earthy', 'Pine', 'Grape']</td>\n",
              "      <td>['Granddaddy', 'Purple', 'cross', 'Mr.', 'Nice...</td>\n",
              "      <td>['probability', '  ', 'relaxed', 'powerful', '...</td>\n",
              "    </tr>\n",
              "  </tbody>\n",
              "</table>\n",
              "</div>"
            ],
            "text/plain": [
              "      Unnamed: 0  ...                                            alltext\n",
              "748          748  ...  ['Undoubtable', 'Intriguing', 'Creativity', ' ...\n",
              "56            56  ...  ['  ', 'sativa', 'Hybrid', 'relaxed', 'Effect'...\n",
              "1946        1946  ...  ['Cali', '  ', 'Hybrid', 'relaxed', 'Lemon', '...\n",
              "1013        1013  ...  ['body', 'Otherworldly', 'Hybrid', 'pacify', '...\n",
              "1728        1728  ...  ['probability', '  ', 'relaxed', 'powerful', '...\n",
              "\n",
              "[5 rows x 15 columns]"
            ]
          },
          "metadata": {
            "tags": []
          },
          "execution_count": 62
        }
      ]
    },
    {
      "cell_type": "code",
      "metadata": {
        "id": "H5TbAMcifzHt",
        "colab_type": "code",
        "colab": {}
      },
      "source": [
        ""
      ],
      "execution_count": 0,
      "outputs": []
    }
  ]
}