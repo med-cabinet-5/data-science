{
  "nbformat": 4,
  "nbformat_minor": 0,
  "metadata": {
    "colab": {
      "name": "SQL Exploration.ipynb",
      "provenance": [],
      "collapsed_sections": []
    },
    "kernelspec": {
      "name": "python3",
      "display_name": "Python 3"
    }
  },
  "cells": [
    {
      "cell_type": "code",
      "metadata": {
        "colab_type": "code",
        "id": "gz-zAqh9FQsh",
        "outputId": "66138d60-4d25-42a6-c4b6-de5d45dc5db7",
        "colab": {
          "base_uri": "https://localhost:8080/",
          "height": 85
        }
      },
      "source": [
        "import pandas as pd\n",
        "import numpy as np\n",
        "import sqlite3\n",
        "build_data_url = 'https://raw.githubusercontent.com/med-cabinet-5/data-science/master/data/cannabis_2_postgresql.csv'\n",
        "build_data = pd.read_csv(build_data_url)\n",
        "build_data = build_data.fillna(\"\")\n",
        "build_data.head(10)\n",
        "build_data.iloc[2361]\n",
        "effects_list = []\n",
        "for i in range(len(build_data)):\n",
        "    for effect in build_data['Effects'].iloc[i].split(','):\n",
        "        #print(effect, i)\n",
        "        if effect not in effects_list:\n",
        "            effects_list.append(effect)\n",
        "print(f'There are {len(effects_list)} unique reported effects among the {len(build_data)} strains.')\n",
        "flavors_list = []\n",
        "for i in range(len(build_data)):\n",
        "    for effect in build_data['Flavor'].iloc[i].split(','):\n",
        "        #print(effect, i)\n",
        "        if effect not in flavors_list:\n",
        "            flavors_list.append(effect)\n",
        "print(f'There are {len(flavors_list)} unique reported flavors among the {len(build_data)} strains.')\n",
        "ailments_list = []\n",
        "for i in range(len(build_data)):\n",
        "    for effect in build_data['Ailment'].iloc[i].split(','):\n",
        "        #print(effect, i)\n",
        "        if effect not in ailments_list:\n",
        "            ailments_list.append(effect)\n",
        "print(f'There are {len(ailments_list)} unique reported ailments among the {len(build_data)} strains.')\n",
        "strain_types = []\n",
        "for i in range(len(build_data)):\n",
        "    for effect in build_data['Type'].iloc[i].split(','):\n",
        "        #print(effect, i)\n",
        "        if effect not in strain_types:\n",
        "            strain_types.append(effect)\n",
        "print(f'There are {len(strain_types)} unique reported strain types among the {len(build_data)} strains.')"
      ],
      "execution_count": 0,
      "outputs": [
        {
          "output_type": "stream",
          "text": [
            "There are 36 unique reported effects among the 2362 strains.\n",
            "There are 98 unique reported flavors among the 2362 strains.\n",
            "There are 25 unique reported ailments among the 2362 strains.\n",
            "There are 5 unique reported strain types among the 2362 strains.\n"
          ],
          "name": "stdout"
        }
      ]
    },
    {
      "cell_type": "code",
      "metadata": {
        "id": "3foayuK9FUwu",
        "colab_type": "code",
        "colab": {}
      },
      "source": [
        "import sqlite3\n",
        "db = '/content/db.sqlite3'\n",
        "sl_conn = sqlite3.connect(db)\n",
        "sl_curs = sl_conn.cursor()\n",
        "build_data[['Strain', 'Type', 'Effects', 'Ailment', 'Flavor', 'Description']].to_sql('strains_table', sl_conn)\n",
        "sl_conn.commit()"
      ],
      "execution_count": 0,
      "outputs": []
    },
    {
      "cell_type": "code",
      "metadata": {
        "id": "SQc0Ao_UIE0P",
        "colab_type": "code",
        "outputId": "e0d28e32-8726-4592-b789-077b392df397",
        "colab": {
          "base_uri": "https://localhost:8080/",
          "height": 187
        }
      },
      "source": [
        "query = \"SELECT Effects FROM strains_table LIMIT 10\"\n",
        "\n",
        "sl_curs.execute(query).fetchall()"
      ],
      "execution_count": 0,
      "outputs": [
        {
          "output_type": "execute_result",
          "data": {
            "text/plain": [
              "[('Focused, Happy, Giggly, Euphoric, Relaxed, Hungry, Energetic, Creative, Tingly, Sleepy',),\n",
              " ('Focused, Euphoric, Relaxed, Energetic, Creative, Tingly',),\n",
              " ('Happy, Relaxed, Energetic, Creative, Anxious, Uplifted, Mouth, Dry',),\n",
              " ('Relaxed, Hungry, Creative, Uplifted, Tingly',),\n",
              " ('Happy, Euphoric, Relaxed, Uplifted, Talkative',),\n",
              " ('',),\n",
              " ('Happy, Euphoric, Relaxed, Hungry, Uplifted',),\n",
              " ('Focused, Happy, Giggly, Euphoric, Relaxed, Hungry, Anxious, Uplifted, Mouth, Dry',),\n",
              " ('Happy, Focused, Relaxed, Uplifted, Mouth, Dry, Tingly, Sleepy, Talkative',),\n",
              " ('Happy, Uplifted, Talkative, Energetic',)]"
            ]
          },
          "metadata": {
            "tags": []
          },
          "execution_count": 3
        }
      ]
    },
    {
      "cell_type": "code",
      "metadata": {
        "id": "Oftqt8Ped2l7",
        "colab_type": "code",
        "colab": {}
      },
      "source": [
        "sl_conn.commit()"
      ],
      "execution_count": 0,
      "outputs": []
    },
    {
      "cell_type": "code",
      "metadata": {
        "id": "KdLPr5b1OMQI",
        "colab_type": "code",
        "colab": {}
      },
      "source": [
        "# build_data.head()\n",
        "# build_data[['Strain', 'Type', 'Effects', 'Ailment', 'Flavor', 'Description']]"
      ],
      "execution_count": 0,
      "outputs": []
    },
    {
      "cell_type": "code",
      "metadata": {
        "id": "dujkTEzLmzfl",
        "colab_type": "code",
        "outputId": "2062bdbd-5bea-4167-9dcc-61d03fe8c407",
        "colab": {
          "base_uri": "https://localhost:8080/",
          "height": 34
        }
      },
      "source": [
        "!pip install psycopg2-binary"
      ],
      "execution_count": 0,
      "outputs": [
        {
          "output_type": "stream",
          "text": [
            "Requirement already satisfied: psycopg2-binary in /usr/local/lib/python3.6/dist-packages (2.8.4)\n"
          ],
          "name": "stdout"
        }
      ]
    },
    {
      "cell_type": "code",
      "metadata": {
        "id": "8lOKDzdPm0hk",
        "colab_type": "code",
        "colab": {}
      },
      "source": [
        "import psycopg2"
      ],
      "execution_count": 0,
      "outputs": []
    },
    {
      "cell_type": "code",
      "metadata": {
        "id": "eKVU_oBVm21R",
        "colab_type": "code",
        "colab": {}
      },
      "source": [
        "# dbname = ''\n",
        "# user = ''\n",
        "# password = ''  # Don't commit or share this for security purposes!\n",
        "# host = ''  # Port should be included or default"
      ],
      "execution_count": 0,
      "outputs": []
    },
    {
      "cell_type": "code",
      "metadata": {
        "id": "OseLPoVXm_sP",
        "colab_type": "code",
        "colab": {}
      },
      "source": [
        "pg_conn = psycopg2.connect(dbname=dbname, user=user,\n",
        "                           password=password, host=host)"
      ],
      "execution_count": 0,
      "outputs": []
    },
    {
      "cell_type": "code",
      "metadata": {
        "id": "LNJFHo1nnEYg",
        "colab_type": "code",
        "outputId": "710d6326-eb2d-4877-ce1b-e5c8fe08802d",
        "colab": {
          "base_uri": "https://localhost:8080/",
          "height": 34
        }
      },
      "source": [
        "pg_conn"
      ],
      "execution_count": 0,
      "outputs": [
        {
          "output_type": "execute_result",
          "data": {
            "text/plain": [
              "<connection object at 0x7fced5c19b40; dsn: 'user=nhworfxj password=xxx dbname=nhworfxj host=balarama.db.elephantsql.com', closed: 0>"
            ]
          },
          "metadata": {
            "tags": []
          },
          "execution_count": 11
        }
      ]
    },
    {
      "cell_type": "code",
      "metadata": {
        "id": "josl1FNpnGZC",
        "colab_type": "code",
        "colab": {}
      },
      "source": [
        "pg_curs = pg_conn.cursor()"
      ],
      "execution_count": 0,
      "outputs": []
    },
    {
      "cell_type": "code",
      "metadata": {
        "id": "tbTWh6VPn3W0",
        "colab_type": "code",
        "colab": {}
      },
      "source": [
        "# Our goal - copy the characters table from SQLite to PostgreSQL using Python\n",
        "# Step 1 - E=Extract: Get the Characters\n",
        "\n",
        "query = \"SELECT * FROM strains_table\"\n",
        "\n",
        "strains = sl_curs.execute(query).fetchall()"
      ],
      "execution_count": 0,
      "outputs": []
    },
    {
      "cell_type": "code",
      "metadata": {
        "id": "6p-S9hn0oGKg",
        "colab_type": "code",
        "outputId": "a1cec8bb-c3fb-45a7-d3d0-59e997bd50bb",
        "colab": {
          "base_uri": "https://localhost:8080/",
          "height": 632
        }
      },
      "source": [
        "strains[:5]"
      ],
      "execution_count": 0,
      "outputs": [
        {
          "output_type": "execute_result",
          "data": {
            "text/plain": [
              "[(0,\n",
              "  'One To One',\n",
              "  'Hybrid',\n",
              "  'Focused, Happy, Giggly, Euphoric, Relaxed, Hungry, Energetic, Creative, Tingly, Sleepy',\n",
              "  '  ',\n",
              "  'Floral, Pungent, Earthy, Wood, Pepper, Diesel, Pine',\n",
              "  'Named for its equal balance of THC and CBD, One to One by CBD Seeds is a stabilized hybrid bred from Amnesia Haze and a high-CBD landrace strain. Its nuanced citrus notes come out strong from the first opening of the jar until the final exhale. With effects that embrace both the mind and body, One to One delivers blissful relaxation that encourages a positive mood. One to One finishes its flowering cycle after 8 to 9 weeks, or in September for outdoor gardens. Or, comprised of 70 percent indica genetics, is an Israeli strain from the medical cannabis supplier Tikun Olam. Primarily designed for patients with sleep disorders, Or also remedies an array of other symptoms including nausea, pain, inflammation, indigestion, and appetite loss. The One, originally bred by\\xa0Clackamas Coots or CC, is a perfectly balanced hybrid of two landrace strains. It is sometimes referred to by its genetic combination Thai x Pure Afghan, with its sativa heritage stemming from its Thai background and the Afghan influence bringing a thick resinous frosting of trichomes. This specific combination of two cornerstone landrace strains is known to only be available through a select circle of breeders and growers in Oregon.\\xa0'),\n",
              " (1,\n",
              "  '100 Og',\n",
              "  'Hybrid',\n",
              "  'Focused, Euphoric, Relaxed, Energetic, Creative, Tingly',\n",
              "  'Depression',\n",
              "  'Earthy, Sweet, Citrus',\n",
              "  '<p>This strain is named after its high price in its Hollywood home. As a 50/50 hybrid of indica and sativa, $100 OG does a great job offering pain relief with an alert, cerebral high.</p> $100 OG is a 50/50 hybrid strain that packs a strong punch. The name supposedly refers to both its strength and high price when it first started showing up in Hollywood. As a plant, $100 OG tends to produce large dark green buds with few stems. Users report a strong body effect of an indica for pain relief with the more alert, cerebral feeling thanks to its sativa side.'),\n",
              " (2,\n",
              "  '1024',\n",
              "  'Sativa, Hybrid',\n",
              "  'Happy, Relaxed, Energetic, Creative, Anxious, Uplifted, Mouth, Dry',\n",
              "  'Inflammation, Depression, Stress, Pain',\n",
              "  'Spicy, Wood, Sage, Herbal, Pine',\n",
              "  ' 1024 is a sativa-dominant hybrid bred in Spain by Medical Seeds Co. The breeders claim to guard the secret genetics due to security reasons, but regardless of its genetic heritage, 1024 is a THC powerhouse with a sweet and spicy bouquet. Subtle fruit flavors mix with an herbal musk to produce uplifting sativa effects. One specific phenotype is noted for having a pungent odor that fills a room, similar to burning incense.'),\n",
              " (3,\n",
              "  '13 Dawgs',\n",
              "  'Hybrid',\n",
              "  'Relaxed, Hungry, Creative, Uplifted, Tingly',\n",
              "  '',\n",
              "  'Grapefruit, Apricot, Citrus',\n",
              "  '13 Dawgs is a hybrid of G13 and Chemdawg genetics bred by Canadian LP Delta 9 BioTech. The two potent strains mix to create a balance between indica and sativa effects. 13 Dawgs has a sweet earthy musk that brings a blend of woody\\xa0citrus flavors. The effects of 13 Dawgs induce a happy, relaxed body buzz with a creative and focused mind that counters depression and stimulates the appetite.'),\n",
              " (4,\n",
              "  '24K Gold',\n",
              "  'Hybrid',\n",
              "  'Happy, Euphoric, Relaxed, Uplifted, Talkative',\n",
              "  '',\n",
              "  'Earthy, Orange, Citrus',\n",
              "  'Also known as Kosher Tangie, 24k Gold is a 60% indica-dominant hybrid that combines the legendary LA strain Kosher Kush with champion sativa Tangie to create something quite unique. Growing tall in its vegetative cycle and very stretchy in flower, this one will need an experienced hand when grown indoors. Most phenotypes will exhibit a sweet orange aroma from the Tangie along with the dark coloration of the Kosher Kush, and will offer a strong citrus flavor when smoked or vaped. THC levels range from 18% to 24%; definitely not for novice users!\\xa0')]"
            ]
          },
          "metadata": {
            "tags": []
          },
          "execution_count": 14
        }
      ]
    },
    {
      "cell_type": "code",
      "metadata": {
        "id": "6CHu0tJjoMaV",
        "colab_type": "code",
        "outputId": "92f7aac7-d2d6-4fe9-e7e8-ec45565a2aeb",
        "colab": {
          "base_uri": "https://localhost:8080/",
          "height": 34
        }
      },
      "source": [
        "len(strains)"
      ],
      "execution_count": 0,
      "outputs": [
        {
          "output_type": "execute_result",
          "data": {
            "text/plain": [
              "2362"
            ]
          },
          "metadata": {
            "tags": []
          },
          "execution_count": 15
        }
      ]
    },
    {
      "cell_type": "code",
      "metadata": {
        "id": "QYTDFSVSnIfB",
        "colab_type": "code",
        "outputId": "ccc4d654-21fd-4dd4-f939-b39a2a3b515b",
        "colab": {
          "base_uri": "https://localhost:8080/",
          "height": 136
        }
      },
      "source": [
        "# Step 2 - Transform\n",
        "# In this case, we don't actually want/need to change much\n",
        "# Because we want to keep all the data\n",
        "# And we're going from SQL to SQL\n",
        "\n",
        "# But what do we need to be able to load into PostgreSQL?\n",
        "# We need to make a new table with the appropriate schema\n",
        "\n",
        "# What was the old schema? We can get at this with SQLite internals\n",
        "sl_curs.execute('PRAGMA table_info(strains_table);').fetchall()"
      ],
      "execution_count": 0,
      "outputs": [
        {
          "output_type": "execute_result",
          "data": {
            "text/plain": [
              "[(0, 'index', 'INTEGER', 0, None, 0),\n",
              " (1, 'Strain', 'TEXT', 0, None, 0),\n",
              " (2, 'Type', 'TEXT', 0, None, 0),\n",
              " (3, 'Effects', 'TEXT', 0, None, 0),\n",
              " (4, 'Ailment', 'TEXT', 0, None, 0),\n",
              " (5, 'Flavor', 'TEXT', 0, None, 0),\n",
              " (6, 'Description', 'TEXT', 0, None, 0)]"
            ]
          },
          "metadata": {
            "tags": []
          },
          "execution_count": 16
        }
      ]
    },
    {
      "cell_type": "code",
      "metadata": {
        "id": "JbL7Vt_1nY9c",
        "colab_type": "code",
        "colab": {}
      },
      "source": [
        "# https://www.postgresql.org/docs/current/sql-createtable.html\n",
        "\n",
        "create_strains_table = \"\"\"\n",
        "CREATE TABLE strains_table (\n",
        "  index SERIAL PRIMARY KEY,\n",
        "  Strain VARCHAR(30),\n",
        "  Type VARCHAR(30),\n",
        "  Effects VARCHAR(120),\n",
        "  Ailment VARCHAR(80),\n",
        "  Flavor VARCHAR(80),\n",
        "  Description VARCHAR(2000)\n",
        ");\n",
        "\"\"\""
      ],
      "execution_count": 0,
      "outputs": []
    },
    {
      "cell_type": "code",
      "metadata": {
        "id": "PMm9uinwqDkO",
        "colab_type": "code",
        "colab": {}
      },
      "source": [
        "pg_curs.execute(create_strains_table)"
      ],
      "execution_count": 0,
      "outputs": []
    },
    {
      "cell_type": "code",
      "metadata": {
        "id": "8arKUwVmqHn8",
        "colab_type": "code",
        "colab": {}
      },
      "source": [
        "pg_conn.commit()"
      ],
      "execution_count": 0,
      "outputs": []
    },
    {
      "cell_type": "code",
      "metadata": {
        "id": "PKZoTegWtGyg",
        "colab_type": "code",
        "outputId": "2d1f849d-3c14-43aa-ddf2-a99e1d75856c",
        "colab": {
          "base_uri": "https://localhost:8080/",
          "height": 34
        }
      },
      "source": [
        "# We can query tables if we want to check\n",
        "# This is a clever optional thing, showing postgresql internals\n",
        "show_tables = \"\"\"\n",
        "SELECT\n",
        "   *\n",
        "FROM\n",
        "   pg_catalog.pg_tables\n",
        "WHERE\n",
        "   schemaname != 'pg_catalog'\n",
        "AND schemaname != 'information_schema';\n",
        "\"\"\"\n",
        "pg_curs.execute(show_tables)\n",
        "pg_curs.fetchall()"
      ],
      "execution_count": 0,
      "outputs": [
        {
          "output_type": "execute_result",
          "data": {
            "text/plain": [
              "[('public', 'strains_table', 'nhworfxj', None, True, False, False, False)]"
            ]
          },
          "metadata": {
            "tags": []
          },
          "execution_count": 20
        }
      ]
    },
    {
      "cell_type": "code",
      "metadata": {
        "id": "p7eUdNINznIO",
        "colab_type": "code",
        "outputId": "7b6d0e44-1a47-4ae3-cb0e-4745545962b0",
        "colab": {
          "base_uri": "https://localhost:8080/",
          "height": 156
        }
      },
      "source": [
        "strains[0]"
      ],
      "execution_count": 0,
      "outputs": [
        {
          "output_type": "execute_result",
          "data": {
            "text/plain": [
              "(0,\n",
              " 'One To One',\n",
              " 'Hybrid',\n",
              " 'Focused, Happy, Giggly, Euphoric, Relaxed, Hungry, Energetic, Creative, Tingly, Sleepy',\n",
              " '  ',\n",
              " 'Floral, Pungent, Earthy, Wood, Pepper, Diesel, Pine',\n",
              " 'Named for its equal balance of THC and CBD, One to One by CBD Seeds is a stabilized hybrid bred from Amnesia Haze and a high-CBD landrace strain. Its nuanced citrus notes come out strong from the first opening of the jar until the final exhale. With effects that embrace both the mind and body, One to One delivers blissful relaxation that encourages a positive mood. One to One finishes its flowering cycle after 8 to 9 weeks, or in September for outdoor gardens. Or, comprised of 70 percent indica genetics, is an Israeli strain from the medical cannabis supplier Tikun Olam. Primarily designed for patients with sleep disorders, Or also remedies an array of other symptoms including nausea, pain, inflammation, indigestion, and appetite loss. The One, originally bred by\\xa0Clackamas Coots or CC, is a perfectly balanced hybrid of two landrace strains. It is sometimes referred to by its genetic combination Thai x Pure Afghan, with its sativa heritage stemming from its Thai background and the Afghan influence bringing a thick resinous frosting of trichomes. This specific combination of two cornerstone landrace strains is known to only be available through a select circle of breeders and growers in Oregon.\\xa0')"
            ]
          },
          "metadata": {
            "tags": []
          },
          "execution_count": 21
        }
      ]
    },
    {
      "cell_type": "code",
      "metadata": {
        "id": "rDxZ-cqWzqSp",
        "colab_type": "code",
        "outputId": "15688e0d-dc9b-4387-c86c-d234483a880e",
        "colab": {
          "base_uri": "https://localhost:8080/",
          "height": 105
        }
      },
      "source": [
        "example_insert = \"\"\"\n",
        "INSERT INTO strains_table\n",
        "(Strain, Type, Effects, Ailment, Flavor, Description)\n",
        "VALUES \"\"\" + str(strains[1][1:]) + \";\"\n",
        "\n",
        "print(example_insert)"
      ],
      "execution_count": 0,
      "outputs": [
        {
          "output_type": "stream",
          "text": [
            "\n",
            "INSERT INTO strains_table\n",
            "(Strain, Type, Effects, Ailment, Flavor, Description)\n",
            "VALUES ('100 Og', 'Hybrid', 'Focused, Euphoric, Relaxed, Energetic, Creative, Tingly', 'Depression', 'Earthy, Sweet, Citrus', '<p>This strain is named after its high price in its Hollywood home. As a 50/50 hybrid of indica and sativa, $100 OG does a great job offering pain relief with an alert, cerebral high.</p> $100 OG is a 50/50 hybrid strain that packs a strong punch. The name supposedly refers to both its strength and high price when it first started showing up in Hollywood. As a plant, $100 OG tends to produce large dark green buds with few stems. Users report a strong body effect of an indica for pain relief with the more alert, cerebral feeling thanks to its sativa side.');\n"
          ],
          "name": "stdout"
        }
      ]
    },
    {
      "cell_type": "code",
      "metadata": {
        "id": "Rp6C9JVjtRM3",
        "colab_type": "code",
        "colab": {}
      },
      "source": [
        "# How do we do this for all characters? Loops!\n",
        "for strain in strains:\n",
        "  insert_strain = \"\"\"\n",
        "    INSERT INTO strains_table\n",
        "    (Strain, Type, Effects, Ailment, Flavor, Description)\n",
        "    VALUES \"\"\" + str(strain[1:]) + \";\"\n",
        "  pg_curs.execute(insert_strain)"
      ],
      "execution_count": 0,
      "outputs": []
    },
    {
      "cell_type": "code",
      "metadata": {
        "id": "NXzqQxj-uE8b",
        "colab_type": "code",
        "colab": {}
      },
      "source": [
        "pg_conn.commit()"
      ],
      "execution_count": 0,
      "outputs": []
    }
  ]
}