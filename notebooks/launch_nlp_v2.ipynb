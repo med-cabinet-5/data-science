{
  "nbformat": 4,
  "nbformat_minor": 0,
  "metadata": {
    "colab": {
      "name": "launch_nlp_v2.ipynb",
      "provenance": [],
      "collapsed_sections": []
    },
    "kernelspec": {
      "name": "python3",
      "display_name": "Python 3"
    }
  },
  "cells": [
    {
      "cell_type": "markdown",
      "metadata": {
        "id": "RpWfRB9AEns9",
        "colab_type": "text"
      },
      "source": [
        "# Imports"
      ]
    },
    {
      "cell_type": "code",
      "metadata": {
        "id": "AwDE-6L3jneE",
        "colab_type": "code",
        "outputId": "ce6be199-8f4f-445f-a217-cb0c614b8e3e",
        "colab": {
          "base_uri": "https://localhost:8080/",
          "height": 107
        }
      },
      "source": [
        "!pip install q scikit-learn==0.22 #Changed sklearn version to stop warning\n",
        "import pickle\n",
        "from google.colab.files import upload\n",
        "from sklearn.feature_extraction.text import TfidfVectorizer\n",
        "from sklearn.neighbors import NearestNeighbors\n",
        "import pandas as pd\n",
        "from collections import Counter"
      ],
      "execution_count": 0,
      "outputs": [
        {
          "output_type": "stream",
          "text": [
            "Requirement already satisfied: q in /usr/local/lib/python3.6/dist-packages (2.6)\n",
            "Requirement already satisfied: scikit-learn==0.22 in /usr/local/lib/python3.6/dist-packages (0.22)\n",
            "Requirement already satisfied: numpy>=1.11.0 in /usr/local/lib/python3.6/dist-packages (from scikit-learn==0.22) (1.17.5)\n",
            "Requirement already satisfied: joblib>=0.11 in /usr/local/lib/python3.6/dist-packages (from scikit-learn==0.22) (0.14.1)\n",
            "Requirement already satisfied: scipy>=0.17.0 in /usr/local/lib/python3.6/dist-packages (from scikit-learn==0.22) (1.4.1)\n"
          ],
          "name": "stdout"
        }
      ]
    },
    {
      "cell_type": "code",
      "metadata": {
        "id": "jCKGsU_GjvTJ",
        "colab_type": "code",
        "colab": {}
      },
      "source": [
        "uploaded = upload()"
      ],
      "execution_count": 0,
      "outputs": []
    },
    {
      "cell_type": "markdown",
      "metadata": {
        "id": "OZPtSBObEstu",
        "colab_type": "text"
      },
      "source": [
        "# Pred Route\n",
        "\n",
        "- I made `review` and `pred` globals to be used outside the functions\n",
        "- pulled the df out of the function\n",
        "- might have to pull model fitting out of the function "
      ]
    },
    {
      "cell_type": "code",
      "metadata": {
        "id": "mg7clpMitDDA",
        "colab_type": "code",
        "colab": {}
      },
      "source": [
        "url = \"https://raw.githubusercontent.com/med-cabinet-5/data-science/master/data/canna.csv\"\n",
        "# Read in data\n",
        "df = pd.read_csv(url)\n",
        "# Fill NaN with empty strings\n",
        "df = df.fillna(\"\")\n",
        "\n",
        "def pred_list(x):\n",
        "    \"\"\"\n",
        "    x = string to predict from (description)\n",
        "    1. Predict the nearest neighbors to the inputted description\n",
        "    2. Predict what type of cannabis the user is looking for with probability\n",
        "       \n",
        "    \"\"\"\n",
        "\n",
        "    # Instantiate vectorizer object\n",
        "    tfidf = TfidfVectorizer(stop_words=\"english\", min_df=0.025, max_df=.98, ngram_range=(1,3))\n",
        "\n",
        "    # Create a vocabulary and get word counts per document\n",
        "    dtm = tfidf.fit_transform(df['alltext'])\n",
        "\n",
        "    # Get feature names to use as dataframe column headers\n",
        "    dtm = pd.DataFrame(dtm.todense(), columns=tfidf.get_feature_names())\n",
        "    \n",
        "    # Fit on TF-IDF Vectors and return 30 neighbors\n",
        "    nn = NearestNeighbors(n_neighbors=30, algorithm=\"kd_tree\", radius=0.5)\n",
        "    nn.fit(dtm)\n",
        "    \n",
        "    # Turn review into a global to be used by all\n",
        "    global review \n",
        "\n",
        "    # Turn Review into a list, transform, and predict\n",
        "    review = [x]\n",
        "    new = tfidf.transform(review)\n",
        "\n",
        "    # Turn pred into a global to be used by all\n",
        "    global pred\n",
        "    pred = nn.kneighbors(new.todense())[1][0]\n",
        "\n",
        "    \n",
        "    #create empty list\n",
        "    pred_dict = []\n",
        "\n",
        "    # only loop through 5 closest neighbors\n",
        "    for x in pred[:5]:\n",
        "        # add new dictionary to pred_dict containing predictions\n",
        "        preds_list ={\"strain\":df[\"Strain\"][x],\n",
        "                     \"type\": df[\"Type_raw\"][x],\n",
        "                     \"description\": df[\"Description_raw\"][x],\n",
        "                     \"flavor\": df[\"Flavor_raw\"][x],\n",
        "                     \"effects\": df[\"Effects_raw\"][x],\n",
        "                     \"ailments\": df[\"Ailment_raw\"][x]}\n",
        "        pred_dict.append(preds_list)\n",
        "    \n",
        "    # # Load data for model 2\n",
        "    # model = pickle.load(open(\"stretch.sav\", \"rb\"))\n",
        "    # #Pull result out\n",
        "    # pred_2 = model.predict(review)[0]\n",
        " \n",
        "    # #Grab max predict proba                   \n",
        "    # predict_proba = model.predict_proba(review)[0].max() * 100\n",
        "\n",
        "    # # Mapper to change result into string\n",
        "    # mapper = ({5: \"Hybrid\",\n",
        "    #        4: \"Indica\",\n",
        "    #        3: \"Sativa\",\n",
        "    #        2: \"Hybrid, Indica\",\n",
        "    #        1: \"Sativa, Hybrid\"})\n",
        "    \n",
        "    # # Apply mapper to newly made Series\n",
        "    # strain_type = pd.Series(pred_2).map(mapper)[0]\n",
        "    \n",
        "    # # Create new dictionary element\n",
        "    # new_dict = {\"proba\":f\"There is a {round(predict_proba, 2)}% that your looking for a {strain_type}\"}\n",
        "    \n",
        "    # # Add new dicitonary to list of dictionaries\n",
        "    # pred_dict.append(new_dict)\n",
        "\n",
        "    return pred_dict"
      ],
      "execution_count": 0,
      "outputs": []
    },
    {
      "cell_type": "code",
      "metadata": {
        "id": "3Tx0g-2-0t4W",
        "colab_type": "code",
        "outputId": "2207058e-246d-491c-b001-61261b1c9e14",
        "colab": {
          "base_uri": "https://localhost:8080/",
          "height": 555
        }
      },
      "source": [
        "ls = pred_list(\"I want to be more creative\")\n",
        "ls"
      ],
      "execution_count": 0,
      "outputs": [
        {
          "output_type": "execute_result",
          "data": {
            "text/plain": [
              "[{'ailments': 'Stress, Pain, Insomnia, Nausea, Depression',\n",
              "  'description': '',\n",
              "  'effects': 'Euphoric, Paranoid, Relaxed, Creative, Uplifted, Mouth, Dry, Sleepy',\n",
              "  'flavor': '',\n",
              "  'strain': 'Guido Kush',\n",
              "  'type': 'Indica'},\n",
              " {'ailments': 'Nausea, Depression, Stress',\n",
              "  'description': '',\n",
              "  'effects': 'Paranoid, Relaxed, Energetic, Creative, Uplifted, Mouth, Dry',\n",
              "  'flavor': 'Vanilla, Sweet',\n",
              "  'strain': 'Root Beer Kush',\n",
              "  'type': 'Hybrid'},\n",
              " {'ailments': '',\n",
              "  'description': 'Kushashima is a hybrid strain that competed in the 2014 L.A. Cannabis Cup.',\n",
              "  'effects': 'Relaxed, Energetic, Creative, Uplifted, Sleepy',\n",
              "  'flavor': 'Pungent, Sweet, Pine',\n",
              "  'strain': 'Kushashima',\n",
              "  'type': 'Hybrid'},\n",
              " {'ailments': '',\n",
              "  'description': 'Guava Chem is a hybrid strain that competed in the 2014 L.A. Cannabis Cup.',\n",
              "  'effects': 'Focused, Happy, Euphoric, Relaxed, Creative',\n",
              "  'flavor': 'Tropical, Sweet, Chemical',\n",
              "  'strain': 'Guava Chem',\n",
              "  'type': 'Hybrid'},\n",
              " {'ailments': 'Insomnia, Stress, Depression, Pain',\n",
              "  'description': '',\n",
              "  'effects': 'Happy, Euphoric, Relaxed, Creative, Uplifted, Mouth, Dry',\n",
              "  'flavor': 'Grape, Sweet',\n",
              "  'strain': 'Peyote Cookies',\n",
              "  'type': 'Indica'}]"
            ]
          },
          "metadata": {
            "tags": []
          },
          "execution_count": 266
        }
      ]
    },
    {
      "cell_type": "markdown",
      "metadata": {
        "id": "i7uh5uiwFOAn",
        "colab_type": "text"
      },
      "source": [
        "# Summary Stat\n",
        "\n",
        "- Create summary statistics based on the input from the user\n",
        "\n",
        "## Idea:\n",
        "\n",
        "- I want to return 30 closest neighbors and return summary based on most populated categorical variables from effects and flavors.\n",
        "\n"
      ]
    },
    {
      "cell_type": "code",
      "metadata": {
        "id": "-wOyqwMMn0X9",
        "colab_type": "code",
        "outputId": "20de5a4c-2b1d-4c57-ef18-6c78441fc7a6",
        "colab": {
          "base_uri": "https://localhost:8080/",
          "height": 591
        }
      },
      "source": [
        "# Create new df from the preds\n",
        "df_preds = df.loc[preds]\n",
        "df_preds.head()"
      ],
      "execution_count": 0,
      "outputs": [
        {
          "output_type": "execute_result",
          "data": {
            "text/html": [
              "<div>\n",
              "<style scoped>\n",
              "    .dataframe tbody tr th:only-of-type {\n",
              "        vertical-align: middle;\n",
              "    }\n",
              "\n",
              "    .dataframe tbody tr th {\n",
              "        vertical-align: top;\n",
              "    }\n",
              "\n",
              "    .dataframe thead th {\n",
              "        text-align: right;\n",
              "    }\n",
              "</style>\n",
              "<table border=\"1\" class=\"dataframe\">\n",
              "  <thead>\n",
              "    <tr style=\"text-align: right;\">\n",
              "      <th></th>\n",
              "      <th>Unnamed: 0</th>\n",
              "      <th>Unnamed: 0.1</th>\n",
              "      <th>Strain</th>\n",
              "      <th>Type_raw</th>\n",
              "      <th>Effects_raw</th>\n",
              "      <th>Ailment_raw</th>\n",
              "      <th>Flavor_raw</th>\n",
              "      <th>Description_raw</th>\n",
              "      <th>labels</th>\n",
              "      <th>Type_lemma</th>\n",
              "      <th>Effects_lemma</th>\n",
              "      <th>Ailment_lemma</th>\n",
              "      <th>Flavor_lemma</th>\n",
              "      <th>Description_lemma</th>\n",
              "      <th>alltext</th>\n",
              "    </tr>\n",
              "  </thead>\n",
              "  <tbody>\n",
              "    <tr>\n",
              "      <th>989</th>\n",
              "      <td>989</td>\n",
              "      <td>989</td>\n",
              "      <td>Guido Kush</td>\n",
              "      <td>Indica</td>\n",
              "      <td>Euphoric, Paranoid, Relaxed, Creative, Uplifte...</td>\n",
              "      <td>Stress, Pain, Insomnia, Nausea, Depression</td>\n",
              "      <td></td>\n",
              "      <td></td>\n",
              "      <td>4</td>\n",
              "      <td>['Indica']</td>\n",
              "      <td>['dry', 'creative', 'sleepy', 'paranoid', 'rel...</td>\n",
              "      <td>['pain', 'Stress', 'Depression', 'Insomnia', '...</td>\n",
              "      <td>[]</td>\n",
              "      <td>[]</td>\n",
              "      <td>['pain', 'stress', 'Dry', '  ', 'Depression', ...</td>\n",
              "    </tr>\n",
              "    <tr>\n",
              "      <th>1827</th>\n",
              "      <td>1827</td>\n",
              "      <td>1827</td>\n",
              "      <td>Root Beer Kush</td>\n",
              "      <td>Hybrid</td>\n",
              "      <td>Paranoid, Relaxed, Energetic, Creative, Uplift...</td>\n",
              "      <td>Nausea, Depression, Stress</td>\n",
              "      <td>Vanilla, Sweet</td>\n",
              "      <td></td>\n",
              "      <td>5</td>\n",
              "      <td>['hybrid']</td>\n",
              "      <td>['energetic', 'dry', 'paranoid', 'relaxed', 'c...</td>\n",
              "      <td>['depression', 'stress', 'nausea']</td>\n",
              "      <td>['vanilla', 'Sweet']</td>\n",
              "      <td>[]</td>\n",
              "      <td>['energetic', 'stress', 'Dry', 'depression', '...</td>\n",
              "    </tr>\n",
              "    <tr>\n",
              "      <th>1232</th>\n",
              "      <td>1232</td>\n",
              "      <td>1232</td>\n",
              "      <td>Kushashima</td>\n",
              "      <td>Hybrid</td>\n",
              "      <td>Relaxed, Energetic, Creative, Uplifted, Sleepy</td>\n",
              "      <td></td>\n",
              "      <td>Pungent, Sweet, Pine</td>\n",
              "      <td>Kushashima is a hybrid strain that competed in...</td>\n",
              "      <td>5</td>\n",
              "      <td>['hybrid']</td>\n",
              "      <td>['energetic', 'sleepy', 'relaxed', 'creative',...</td>\n",
              "      <td>[]</td>\n",
              "      <td>['Pine', 'pungent', 'sweet']</td>\n",
              "      <td>['Kushashima', 'hybrid', 'strain', 'compete', ...</td>\n",
              "      <td>['Kushashima', 'Cup', 'energetic', 'pungent', ...</td>\n",
              "    </tr>\n",
              "    <tr>\n",
              "      <th>985</th>\n",
              "      <td>985</td>\n",
              "      <td>985</td>\n",
              "      <td>Guava Chem</td>\n",
              "      <td>Hybrid</td>\n",
              "      <td>Focused, Happy, Euphoric, Relaxed, Creative</td>\n",
              "      <td></td>\n",
              "      <td>Tropical, Sweet, Chemical</td>\n",
              "      <td>Guava Chem is a hybrid strain that competed in...</td>\n",
              "      <td>5</td>\n",
              "      <td>['hybrid']</td>\n",
              "      <td>['happy', 'Creative', 'focused', 'relaxed', 'e...</td>\n",
              "      <td>[]</td>\n",
              "      <td>['Chemical', 'tropical', 'sweet']</td>\n",
              "      <td>['guava', 'Chem', 'hybrid', 'strain', 'compete...</td>\n",
              "      <td>['Cup', 'Chem', 'Guava', 'Happy', 'creative', ...</td>\n",
              "    </tr>\n",
              "    <tr>\n",
              "      <th>1604</th>\n",
              "      <td>1604</td>\n",
              "      <td>1604</td>\n",
              "      <td>Peyote Cookies</td>\n",
              "      <td>Indica</td>\n",
              "      <td>Happy, Euphoric, Relaxed, Creative, Uplifted, ...</td>\n",
              "      <td>Insomnia, Stress, Depression, Pain</td>\n",
              "      <td>Grape, Sweet</td>\n",
              "      <td></td>\n",
              "      <td>4</td>\n",
              "      <td>['Indica']</td>\n",
              "      <td>['happy', 'dry', 'creative', 'relaxed', 'eupho...</td>\n",
              "      <td>['pain', 'Insomnia', 'Stress', 'depression']</td>\n",
              "      <td>['grape', 'Sweet']</td>\n",
              "      <td>[]</td>\n",
              "      <td>['pain', 'Stress', 'Happy', 'Dry', 'Depression...</td>\n",
              "    </tr>\n",
              "  </tbody>\n",
              "</table>\n",
              "</div>"
            ],
            "text/plain": [
              "      Unnamed: 0  ...                                            alltext\n",
              "989          989  ...  ['pain', 'stress', 'Dry', '  ', 'Depression', ...\n",
              "1827        1827  ...  ['energetic', 'stress', 'Dry', 'depression', '...\n",
              "1232        1232  ...  ['Kushashima', 'Cup', 'energetic', 'pungent', ...\n",
              "985          985  ...  ['Cup', 'Chem', 'Guava', 'Happy', 'creative', ...\n",
              "1604        1604  ...  ['pain', 'Stress', 'Happy', 'Dry', 'Depression...\n",
              "\n",
              "[5 rows x 15 columns]"
            ]
          },
          "metadata": {
            "tags": []
          },
          "execution_count": 268
        }
      ]
    },
    {
      "cell_type": "code",
      "metadata": {
        "id": "ZryDYA7jpbxP",
        "colab_type": "code",
        "colab": {}
      },
      "source": [
        "\n",
        "def lister(x):\n",
        "    \"\"\"Function to return top seen words from a desired column\"\"\"\n",
        "    # make new df from preds\n",
        "    df_preds = df.loc[pred]\n",
        "    # make empty list\n",
        "    word_ls = []\n",
        "\n",
        "    # loop over items in desired column and append into a list and title it\n",
        "    for x in df_preds[x]:\n",
        "        x = x.split(\" \")\n",
        "        for x in x:\n",
        "            word_ls.append(x.strip(\",\").title())\n",
        "\n",
        "    # Count the number of times each element appears\n",
        "    count = Counter(word_ls)\n",
        "    \n",
        "    # Create new empty list\n",
        "    word_ls = []\n",
        "\n",
        "    # Loop over first 3 most common elements and join together in a string\n",
        "    for x in range(3):\n",
        "        word_ls.append(count.most_common(3)[x][0])\n",
        "    result = \", \".join(word_ls)\n",
        "\n",
        "    return result"
      ],
      "execution_count": 0,
      "outputs": []
    },
    {
      "cell_type": "code",
      "metadata": {
        "id": "7UDR6tb-8i79",
        "colab_type": "code",
        "colab": {}
      },
      "source": [
        "# Create new dicitonary\n",
        "test_dict = {\"top_effects\": lister(\"Effects_raw\"),\n",
        "            \"top_flavors\": lister(\"Flavor_raw\"),\n",
        "            }"
      ],
      "execution_count": 0,
      "outputs": []
    },
    {
      "cell_type": "code",
      "metadata": {
        "id": "Z6rzwdbLAd3A",
        "colab_type": "code",
        "outputId": "63f3b3f9-9166-4ce4-a68d-4b7ed4f00754",
        "colab": {
          "base_uri": "https://localhost:8080/",
          "height": 53
        }
      },
      "source": [
        "test_dict"
      ],
      "execution_count": 0,
      "outputs": [
        {
          "output_type": "execute_result",
          "data": {
            "text/plain": [
              "{'top_effects': 'Creative, Uplifted, Happy',\n",
              " 'top_flavors': 'Earthy, Sweet, Citrus'}"
            ]
          },
          "metadata": {
            "tags": []
          },
          "execution_count": 274
        }
      ]
    },
    {
      "cell_type": "code",
      "metadata": {
        "id": "jdPR7tGvCADx",
        "colab_type": "code",
        "colab": {}
      },
      "source": [
        "# Load data for model 2\n",
        "model = pickle.load(open(\"stretch.sav\", \"rb\"))\n",
        "#Pull result out\n",
        "pred_2 = model.predict(review)[0]\n",
        " \n",
        "#Grab max predict proba                   \n",
        "predict_proba = model.predict_proba(review)[0].max() * 100\n",
        "\n",
        "# Mapper to change result into string\n",
        "mapper = ({5: \"Hybrid\",\n",
        "           4: \"Indica\",\n",
        "           3: \"Sativa\",\n",
        "           2: \"Hybrid, Indica\",\n",
        "           1: \"Sativa, Hybrid\"})\n",
        "    \n",
        "# Apply mapper to newly made Series\n",
        "strain_type = pd.Series(pred_2).map(mapper)[0]\n",
        "    \n",
        "# Add new entry\n",
        "test_dict[\"proba\"] = f\"There is a {round(predict_proba, 2)}% that your looking for a {strain_type}\"   "
      ],
      "execution_count": 0,
      "outputs": []
    },
    {
      "cell_type": "code",
      "metadata": {
        "id": "DH0UMDVrIO4y",
        "colab_type": "code",
        "outputId": "d11b75b5-768c-4a41-9a67-5ceaf22eea23",
        "colab": {
          "base_uri": "https://localhost:8080/",
          "height": 71
        }
      },
      "source": [
        "test_dict"
      ],
      "execution_count": 0,
      "outputs": [
        {
          "output_type": "execute_result",
          "data": {
            "text/plain": [
              "{'proba': 'There is a 65.46% that your looking for a Hybrid',\n",
              " 'top_effects': 'Creative, Uplifted, Happy',\n",
              " 'top_flavors': 'Earthy, Sweet, Citrus'}"
            ]
          },
          "metadata": {
            "tags": []
          },
          "execution_count": 276
        }
      ]
    },
    {
      "cell_type": "markdown",
      "metadata": {
        "id": "iQ8L6YCaJo_V",
        "colab_type": "text"
      },
      "source": [
        "# Demo"
      ]
    },
    {
      "cell_type": "code",
      "metadata": {
        "id": "RIwFDelRJpxQ",
        "colab_type": "code",
        "outputId": "068e44d4-376b-4335-e9f2-8e1e97c77b5b",
        "colab": {
          "base_uri": "https://localhost:8080/",
          "height": 575
        }
      },
      "source": [
        "pred_list(\"I want it to uplift but also help with my back pain\")"
      ],
      "execution_count": 0,
      "outputs": [
        {
          "output_type": "execute_result",
          "data": {
            "text/plain": [
              "[{'ailments': '',\n",
              "  'description': 'Las Vegas Purple Kush BX is a clone-only strain released in 2013 and has been described as Alphakronik Gene’s most potent indica. This backcross consists of Las Vegas Purple Kush and Sin City Kush genetics, creating a similar experience and aroma to Pre-98 Bubba Kush without the coffee smell and with a slightly sweeter aroma. This strain has been known to help with an array of ailments associated with physical pain and gastrointestinal issues.',\n",
              "  'effects': 'Happy, Relaxed, Aroused, Creative, Sleepy',\n",
              "  'flavor': '',\n",
              "  'strain': 'Las Vegas Purple Kush Bx',\n",
              "  'type': 'Indica'},\n",
              " {'ailments': '',\n",
              "  'description': 'G-Force by Flying Dutchman is a hearty G13 and Skunk/Northern Lights cross with heavy effects and a generous yield. This potent indica produces massive resinous colas that mature over a nine-week flowering cycle. The effects are extremely heavy on the limbs while still offering a potent euphoric rush that can even challenge the most seasoned cannabis enthusiast. G-Force is a perfect evening strain to shrug off stress and help mute aches and pains. \\xa0 \\xa0',\n",
              "  'effects': '',\n",
              "  'flavor': 'Citrus',\n",
              "  'strain': 'G Force',\n",
              "  'type': 'Indica'},\n",
              " {'ailments': '',\n",
              "  'description': 'Soul Assassin OG is an OG Kush variety bred by the Soul Assassins Crew, a collective of musicians and artists affiliated with the hip hop group Cypress Hill. While the genetics remain unclassified, there have been rumblings through the underground that Lemon Thai is the mistress responsible for influencing OG Kush into its Soul Assassin OG offspring. It is an indica-dominant hybrid that produces smooth, expansive smoke with and aroma of pungent diesel and citrus fumes. Soul Assassin OG evokes sleepy, knockout indica effects that help silence any pain, stress, or tension from a long a day.',\n",
              "  'effects': 'Focused, Happy, Euphoric, Relaxed, Sleepy',\n",
              "  'flavor': 'Pungent, Lemon, Diesel',\n",
              "  'strain': 'Soul Assassin Og',\n",
              "  'type': 'Hybrid'},\n",
              " {'ailments': '',\n",
              "  'description': 'Dorit is a 70/30 indica-dominant strain tailored for patients treating pain, inflammation, indigestion, appetite loss, nausea, and sleep disorders. Bred in Israel by Tikun Olam, this strain inherits its name from Dorit Cohen, who helped found the company.\\xa0',\n",
              "  'effects': 'Euphoric, Relaxed, Uplifted, Tingly, Sleepy',\n",
              "  'flavor': 'Ammonia, Spicy, Minty, Herbal',\n",
              "  'strain': 'Dorit',\n",
              "  'type': 'Indica'},\n",
              " {'ailments': '',\n",
              "  'description': 'ACDC is\\xa0a sativa-dominant phenotype of the high-CBD\\xa0cannabis strain, Cannatonic. One remarkable characteristic of ACDC is its THC:CBD ratio of 1:20, meaning this strain induces no psychoactive effects. Tests have put ACDC’s CBD content as high as 19%, which helps many patients treat pain, anxiety, epilepsy, multiple sclerosis, and the negative effects of chemotherapy, all without intoxication.',\n",
              "  'effects': 'Happy, Focused, Euphoric, Relaxed, Uplifted',\n",
              "  'flavor': 'Earthy, Wood, Pine',\n",
              "  'strain': 'Acdc',\n",
              "  'type': 'Hybrid'}]"
            ]
          },
          "metadata": {
            "tags": []
          },
          "execution_count": 307
        }
      ]
    },
    {
      "cell_type": "code",
      "metadata": {
        "id": "QKHBsUebJvtq",
        "colab_type": "code",
        "outputId": "cb4ec63a-a079-4a2d-a8db-34e899a468c3",
        "colab": {
          "base_uri": "https://localhost:8080/",
          "height": 71
        }
      },
      "source": [
        "# Check for changing preds\n",
        "pred"
      ],
      "execution_count": 0,
      "outputs": [
        {
          "output_type": "execute_result",
          "data": {
            "text/plain": [
              "array([1256,  851, 1943,  701,   25,  158, 1072,  197,   77,  127, 2008,\n",
              "       1757, 1349,   71, 1042,  843,  266, 1131, 1457,  681, 1853, 2012,\n",
              "        421, 1602,  487,  539, 2099, 1010, 2338, 1250])"
            ]
          },
          "metadata": {
            "tags": []
          },
          "execution_count": 308
        }
      ]
    },
    {
      "cell_type": "code",
      "metadata": {
        "id": "lkUCmMnmLL6u",
        "colab_type": "code",
        "outputId": "f27590ec-6ffe-4141-d9b5-271522b85444",
        "colab": {
          "base_uri": "https://localhost:8080/",
          "height": 71
        }
      },
      "source": [
        "# Create new dicitonary\n",
        "test_dict = {\"top_effects\": lister(\"Effects_raw\"),\n",
        "            \"top_flavors\": lister(\"Flavor_raw\"),\n",
        "            \"top_ailments\": lister(\"Ailment_raw\")\n",
        "            }\n",
        "test_dict"
      ],
      "execution_count": 0,
      "outputs": [
        {
          "output_type": "execute_result",
          "data": {
            "text/plain": [
              "{'top_ailments': ', Stress, Pain',\n",
              " 'top_effects': 'Happy, Euphoric, Relaxed',\n",
              " 'top_flavors': 'Earthy, Sweet, '}"
            ]
          },
          "metadata": {
            "tags": []
          },
          "execution_count": 309
        }
      ]
    },
    {
      "cell_type": "code",
      "metadata": {
        "id": "qTbFmelKLw1m",
        "colab_type": "code",
        "outputId": "44b60f62-4128-4759-d9d9-960a3eb66aa0",
        "colab": {
          "base_uri": "https://localhost:8080/",
          "height": 89
        }
      },
      "source": [
        "# Load data for model 2\n",
        "model = pickle.load(open(\"stretch.sav\", \"rb\"))\n",
        "#Pull result out\n",
        "pred_2 = model.predict(review)[0]\n",
        " \n",
        "#Grab max predict proba                   \n",
        "predict_proba = model.predict_proba(review)[0].max() * 100\n",
        "\n",
        "# Mapper to change result into string\n",
        "mapper = ({5: \"Hybrid\",\n",
        "           4: \"Indica\",\n",
        "           3: \"Sativa\",\n",
        "           2: \"Hybrid, Indica\",\n",
        "           1: \"Sativa, Hybrid\"})\n",
        "    \n",
        "# Apply mapper to newly made Series\n",
        "strain_type = pd.Series(pred_2).map(mapper)[0]\n",
        "    \n",
        "# Add new entry\n",
        "test_dict[\"proba\"] = f\"There is a {round(predict_proba, 2)}% that your looking for a {strain_type}\"  \n",
        "\n",
        "test_dict"
      ],
      "execution_count": 0,
      "outputs": [
        {
          "output_type": "execute_result",
          "data": {
            "text/plain": [
              "{'proba': 'There is a 51.04% that your looking for a Indica',\n",
              " 'top_ailments': ', Stress, Pain',\n",
              " 'top_effects': 'Happy, Euphoric, Relaxed',\n",
              " 'top_flavors': 'Earthy, Sweet, '}"
            ]
          },
          "metadata": {
            "tags": []
          },
          "execution_count": 310
        }
      ]
    },
    {
      "cell_type": "code",
      "metadata": {
        "id": "RXH2moJUL9Fl",
        "colab_type": "code",
        "colab": {}
      },
      "source": [
        ""
      ],
      "execution_count": 0,
      "outputs": []
    }
  ]
}