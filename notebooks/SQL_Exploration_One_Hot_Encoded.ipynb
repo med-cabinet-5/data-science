{
  "nbformat": 4,
  "nbformat_minor": 0,
  "metadata": {
    "colab": {
      "name": "SQL Exploration One Hot Encoded.ipynb",
      "provenance": [],
      "collapsed_sections": []
    },
    "kernelspec": {
      "name": "python3",
      "display_name": "Python 3"
    }
  },
  "cells": [
    {
      "cell_type": "code",
      "metadata": {
        "colab_type": "code",
        "id": "gz-zAqh9FQsh",
        "colab": {}
      },
      "source": [
        "import pandas as pd\n",
        "import numpy as np\n",
        "import sqlite3\n",
        "\n",
        "build_data_url = 'https://raw.githubusercontent.com/med-cabinet-5/data-science/master/data/cannabis_one_hot.csv'\n",
        "build_data = pd.read_csv(build_data_url)\n",
        "build_data = build_data.fillna(\"\")"
      ],
      "execution_count": 0,
      "outputs": []
    },
    {
      "cell_type": "code",
      "metadata": {
        "id": "3foayuK9FUwu",
        "colab_type": "code",
        "colab": {}
      },
      "source": [
        "import sqlite3\n",
        "db = '/content/db.sqlite3'\n",
        "sl_conn = sqlite3.connect(db)\n",
        "sl_curs = sl_conn.cursor()\n",
        "build_data[['Strain', 'Type_Hybrid', 'Type_Indica', 'Type_Sativa', 'Effects_Anxious', 'Effects_Arouse', 'Effects_Creative', 'Effects_Dry', 'Effects_Energetic', 'Effects_Euphoric', 'Effects_Focus', 'Effects_Giggly', 'Effects_Happy', 'Effects_Horny', 'Effects_Hungry', 'Effects_Mouth', 'Effects_Paranoid', 'Effects_Relaxed', 'Effects_Sleepy', 'Effects_Talkative', 'Effects_Tingly', 'Effects_Uplift', 'Ailment_Appetite', 'Ailment_Depression', 'Ailment_Inflammation', 'Ailment_Insomnia', 'Ailment_Lack', 'Ailment_Muscle', 'Ailment_Nausea', 'Ailment_Pain', 'Ailment_Seizure', 'Ailment_Spasm', 'Ailment_Stress', 'Flavor_Ammonia', 'Flavor_Apple', 'Flavor_Apricot', 'Flavor_Berry', 'Flavor_Blueberry', 'Flavor_Butter', 'Flavor_Candy', 'Flavor_Cheese', 'Flavor_Chemical', 'Flavor_Chestnut', 'Flavor_Citrus', 'Flavor_Coffee', 'Flavor_Diesel', 'Flavor_Earthy', 'Flavor_Floral', 'Flavor_Fruity', 'Flavor_Grape', 'Flavor_Grapefruit', 'Flavor_Herbal', 'Flavor_Honey', 'Flavor_Lavender', 'Flavor_Lemon', 'Flavor_Lime', 'Flavor_Mango', 'Flavor_Melon', 'Flavor_Menthol', 'Flavor_Mint', 'Flavor_Nutty', 'Flavor_Orange', 'Flavor_Peach', 'Flavor_Pear', 'Flavor_Pepper', 'Flavor_Pine', 'Flavor_Pineapple', 'Flavor_Plum', 'Flavor_Pungent', 'Flavor_Rose', 'Flavor_Sage', 'Flavor_Skunk', 'Flavor_Sour', 'Flavor_Spicy', 'Flavor_Strawberry', 'Flavor_Sweet', 'Flavor_Tangy', 'Flavor_Tar', 'Flavor_Tart', 'Flavor_Tea', 'Flavor_Tobacco', 'Flavor_Tropical', 'Flavor_Vanilla', 'Flavor_Violet', 'Flavor_Wood', 'Description']].to_sql('strains_one_hot_table', sl_conn)\n",
        "sl_conn.commit()"
      ],
      "execution_count": 0,
      "outputs": []
    },
    {
      "cell_type": "code",
      "metadata": {
        "id": "SQc0Ao_UIE0P",
        "colab_type": "code",
        "colab": {}
      },
      "source": [
        "# query = \"SELECT * FROM strains_one_hot_table LIMIT 5\"\n",
        "# sl_curs.execute(query).fetchall()"
      ],
      "execution_count": 0,
      "outputs": []
    },
    {
      "cell_type": "code",
      "metadata": {
        "id": "dujkTEzLmzfl",
        "colab_type": "code",
        "outputId": "995b859e-7b17-408d-fcc5-2c67881e963d",
        "colab": {
          "base_uri": "https://localhost:8080/",
          "height": 34
        }
      },
      "source": [
        "!pip install psycopg2-binary"
      ],
      "execution_count": 0,
      "outputs": [
        {
          "output_type": "stream",
          "text": [
            "Requirement already satisfied: psycopg2-binary in /usr/local/lib/python3.6/dist-packages (2.8.4)\n"
          ],
          "name": "stdout"
        }
      ]
    },
    {
      "cell_type": "code",
      "metadata": {
        "id": "8lOKDzdPm0hk",
        "colab_type": "code",
        "colab": {}
      },
      "source": [
        "import psycopg2"
      ],
      "execution_count": 0,
      "outputs": []
    },
    {
      "cell_type": "code",
      "metadata": {
        "id": "eKVU_oBVm21R",
        "colab_type": "code",
        "colab": {}
      },
      "source": [
        "# dbname = ''\n",
        "# user = ''\n",
        "# password = ''  # Don't commit or share this for security purposes!\n",
        "# host = ''  # Port should be included or default"
      ],
      "execution_count": 0,
      "outputs": []
    },
    {
      "cell_type": "code",
      "metadata": {
        "id": "OseLPoVXm_sP",
        "colab_type": "code",
        "colab": {}
      },
      "source": [
        "pg_conn = psycopg2.connect(dbname=dbname, user=user,\n",
        "                           password=password, host=host)"
      ],
      "execution_count": 0,
      "outputs": []
    },
    {
      "cell_type": "code",
      "metadata": {
        "id": "LNJFHo1nnEYg",
        "colab_type": "code",
        "outputId": "425f75e5-58af-46ae-b12b-c8201f06ad06",
        "colab": {
          "base_uri": "https://localhost:8080/",
          "height": 34
        }
      },
      "source": [
        "pg_conn"
      ],
      "execution_count": 0,
      "outputs": [
        {
          "output_type": "execute_result",
          "data": {
            "text/plain": [
              "<connection object at 0x7f24bce3c8d0; dsn: 'user=nhworfxj password=xxx dbname=nhworfxj host=balarama.db.elephantsql.com', closed: 0>"
            ]
          },
          "metadata": {
            "tags": []
          },
          "execution_count": 8
        }
      ]
    },
    {
      "cell_type": "code",
      "metadata": {
        "id": "josl1FNpnGZC",
        "colab_type": "code",
        "colab": {}
      },
      "source": [
        "pg_curs = pg_conn.cursor()"
      ],
      "execution_count": 0,
      "outputs": []
    },
    {
      "cell_type": "code",
      "metadata": {
        "id": "tbTWh6VPn3W0",
        "colab_type": "code",
        "colab": {}
      },
      "source": [
        "# Our goal - copy the characters table from SQLite to PostgreSQL using Python\n",
        "# Step 1 - E=Extract: Get the Characters\n",
        "\n",
        "query = \"SELECT * FROM strains_one_hot_table\"\n",
        "\n",
        "strains = sl_curs.execute(query).fetchall()"
      ],
      "execution_count": 0,
      "outputs": []
    },
    {
      "cell_type": "code",
      "metadata": {
        "id": "6p-S9hn0oGKg",
        "colab_type": "code",
        "colab": {}
      },
      "source": [
        "# strains[:5]"
      ],
      "execution_count": 0,
      "outputs": []
    },
    {
      "cell_type": "code",
      "metadata": {
        "id": "6CHu0tJjoMaV",
        "colab_type": "code",
        "outputId": "d48c037b-9004-4294-93a8-d25cbbdae2f7",
        "colab": {
          "base_uri": "https://localhost:8080/",
          "height": 34
        }
      },
      "source": [
        "len(strains)"
      ],
      "execution_count": 0,
      "outputs": [
        {
          "output_type": "execute_result",
          "data": {
            "text/plain": [
              "2362"
            ]
          },
          "metadata": {
            "tags": []
          },
          "execution_count": 12
        }
      ]
    },
    {
      "cell_type": "code",
      "metadata": {
        "id": "QYTDFSVSnIfB",
        "colab_type": "code",
        "outputId": "477cbdc6-c28a-4438-850e-82020974eb67",
        "colab": {
          "base_uri": "https://localhost:8080/",
          "height": 1000
        }
      },
      "source": [
        "# Step 2 - Transform\n",
        "# In this case, we don't actually want/need to change much\n",
        "# Because we want to keep all the data\n",
        "# And we're going from SQL to SQL\n",
        "\n",
        "# But what do we need to be able to load into PostgreSQL?\n",
        "# We need to make a new table with the appropriate schema\n",
        "\n",
        "# What was the old schema? We can get at this with SQLite internals\n",
        "sl_curs.execute('PRAGMA table_info(strains_one_hot_table);').fetchall()"
      ],
      "execution_count": 0,
      "outputs": [
        {
          "output_type": "execute_result",
          "data": {
            "text/plain": [
              "[(0, 'index', 'INTEGER', 0, None, 0),\n",
              " (1, 'Strain', 'TEXT', 0, None, 0),\n",
              " (2, 'Type_Hybrid', 'INTEGER', 0, None, 0),\n",
              " (3, 'Type_Indica', 'INTEGER', 0, None, 0),\n",
              " (4, 'Type_Sativa', 'INTEGER', 0, None, 0),\n",
              " (5, 'Effects_Anxious', 'INTEGER', 0, None, 0),\n",
              " (6, 'Effects_Arouse', 'INTEGER', 0, None, 0),\n",
              " (7, 'Effects_Creative', 'INTEGER', 0, None, 0),\n",
              " (8, 'Effects_Dry', 'INTEGER', 0, None, 0),\n",
              " (9, 'Effects_Energetic', 'INTEGER', 0, None, 0),\n",
              " (10, 'Effects_Euphoric', 'INTEGER', 0, None, 0),\n",
              " (11, 'Effects_Focus', 'INTEGER', 0, None, 0),\n",
              " (12, 'Effects_Giggly', 'INTEGER', 0, None, 0),\n",
              " (13, 'Effects_Happy', 'INTEGER', 0, None, 0),\n",
              " (14, 'Effects_Horny', 'INTEGER', 0, None, 0),\n",
              " (15, 'Effects_Hungry', 'INTEGER', 0, None, 0),\n",
              " (16, 'Effects_Mouth', 'INTEGER', 0, None, 0),\n",
              " (17, 'Effects_Paranoid', 'INTEGER', 0, None, 0),\n",
              " (18, 'Effects_Relaxed', 'INTEGER', 0, None, 0),\n",
              " (19, 'Effects_Sleepy', 'INTEGER', 0, None, 0),\n",
              " (20, 'Effects_Talkative', 'INTEGER', 0, None, 0),\n",
              " (21, 'Effects_Tingly', 'INTEGER', 0, None, 0),\n",
              " (22, 'Effects_Uplift', 'INTEGER', 0, None, 0),\n",
              " (23, 'Ailment_Appetite', 'INTEGER', 0, None, 0),\n",
              " (24, 'Ailment_Depression', 'INTEGER', 0, None, 0),\n",
              " (25, 'Ailment_Inflammation', 'INTEGER', 0, None, 0),\n",
              " (26, 'Ailment_Insomnia', 'INTEGER', 0, None, 0),\n",
              " (27, 'Ailment_Lack', 'INTEGER', 0, None, 0),\n",
              " (28, 'Ailment_Muscle', 'INTEGER', 0, None, 0),\n",
              " (29, 'Ailment_Nausea', 'INTEGER', 0, None, 0),\n",
              " (30, 'Ailment_Pain', 'INTEGER', 0, None, 0),\n",
              " (31, 'Ailment_Seizure', 'INTEGER', 0, None, 0),\n",
              " (32, 'Ailment_Spasm', 'INTEGER', 0, None, 0),\n",
              " (33, 'Ailment_Stress', 'INTEGER', 0, None, 0),\n",
              " (34, 'Flavor_Ammonia', 'INTEGER', 0, None, 0),\n",
              " (35, 'Flavor_Apple', 'INTEGER', 0, None, 0),\n",
              " (36, 'Flavor_Apricot', 'INTEGER', 0, None, 0),\n",
              " (37, 'Flavor_Berry', 'INTEGER', 0, None, 0),\n",
              " (38, 'Flavor_Blueberry', 'INTEGER', 0, None, 0),\n",
              " (39, 'Flavor_Butter', 'INTEGER', 0, None, 0),\n",
              " (40, 'Flavor_Candy', 'INTEGER', 0, None, 0),\n",
              " (41, 'Flavor_Cheese', 'INTEGER', 0, None, 0),\n",
              " (42, 'Flavor_Chemical', 'INTEGER', 0, None, 0),\n",
              " (43, 'Flavor_Chestnut', 'INTEGER', 0, None, 0),\n",
              " (44, 'Flavor_Citrus', 'INTEGER', 0, None, 0),\n",
              " (45, 'Flavor_Coffee', 'INTEGER', 0, None, 0),\n",
              " (46, 'Flavor_Diesel', 'INTEGER', 0, None, 0),\n",
              " (47, 'Flavor_Earthy', 'INTEGER', 0, None, 0),\n",
              " (48, 'Flavor_Floral', 'INTEGER', 0, None, 0),\n",
              " (49, 'Flavor_Fruity', 'INTEGER', 0, None, 0),\n",
              " (50, 'Flavor_Grape', 'INTEGER', 0, None, 0),\n",
              " (51, 'Flavor_Grapefruit', 'INTEGER', 0, None, 0),\n",
              " (52, 'Flavor_Herbal', 'INTEGER', 0, None, 0),\n",
              " (53, 'Flavor_Honey', 'INTEGER', 0, None, 0),\n",
              " (54, 'Flavor_Lavender', 'INTEGER', 0, None, 0),\n",
              " (55, 'Flavor_Lemon', 'INTEGER', 0, None, 0),\n",
              " (56, 'Flavor_Lime', 'INTEGER', 0, None, 0),\n",
              " (57, 'Flavor_Mango', 'INTEGER', 0, None, 0),\n",
              " (58, 'Flavor_Melon', 'INTEGER', 0, None, 0),\n",
              " (59, 'Flavor_Menthol', 'INTEGER', 0, None, 0),\n",
              " (60, 'Flavor_Mint', 'INTEGER', 0, None, 0),\n",
              " (61, 'Flavor_Nutty', 'INTEGER', 0, None, 0),\n",
              " (62, 'Flavor_Orange', 'INTEGER', 0, None, 0),\n",
              " (63, 'Flavor_Peach', 'INTEGER', 0, None, 0),\n",
              " (64, 'Flavor_Pear', 'INTEGER', 0, None, 0),\n",
              " (65, 'Flavor_Pepper', 'INTEGER', 0, None, 0),\n",
              " (66, 'Flavor_Pine', 'INTEGER', 0, None, 0),\n",
              " (67, 'Flavor_Pineapple', 'INTEGER', 0, None, 0),\n",
              " (68, 'Flavor_Plum', 'INTEGER', 0, None, 0),\n",
              " (69, 'Flavor_Pungent', 'INTEGER', 0, None, 0),\n",
              " (70, 'Flavor_Rose', 'INTEGER', 0, None, 0),\n",
              " (71, 'Flavor_Sage', 'INTEGER', 0, None, 0),\n",
              " (72, 'Flavor_Skunk', 'INTEGER', 0, None, 0),\n",
              " (73, 'Flavor_Sour', 'INTEGER', 0, None, 0),\n",
              " (74, 'Flavor_Spicy', 'INTEGER', 0, None, 0),\n",
              " (75, 'Flavor_Strawberry', 'INTEGER', 0, None, 0),\n",
              " (76, 'Flavor_Sweet', 'INTEGER', 0, None, 0),\n",
              " (77, 'Flavor_Tangy', 'INTEGER', 0, None, 0),\n",
              " (78, 'Flavor_Tar', 'INTEGER', 0, None, 0),\n",
              " (79, 'Flavor_Tart', 'INTEGER', 0, None, 0),\n",
              " (80, 'Flavor_Tea', 'INTEGER', 0, None, 0),\n",
              " (81, 'Flavor_Tobacco', 'INTEGER', 0, None, 0),\n",
              " (82, 'Flavor_Tropical', 'INTEGER', 0, None, 0),\n",
              " (83, 'Flavor_Vanilla', 'INTEGER', 0, None, 0),\n",
              " (84, 'Flavor_Violet', 'INTEGER', 0, None, 0),\n",
              " (85, 'Flavor_Wood', 'INTEGER', 0, None, 0),\n",
              " (86, 'Description', 'TEXT', 0, None, 0)]"
            ]
          },
          "metadata": {
            "tags": []
          },
          "execution_count": 13
        }
      ]
    },
    {
      "cell_type": "code",
      "metadata": {
        "id": "JbL7Vt_1nY9c",
        "colab_type": "code",
        "colab": {}
      },
      "source": [
        "# https://www.postgresql.org/docs/current/sql-createtable.html\n",
        "\n",
        "create_strains_table = \"\"\"\n",
        "CREATE TABLE strains_one_hot_table (\n",
        "  index SERIAL PRIMARY KEY,\n",
        "  Strain VARCHAR(30),\n",
        "  Type_Hybrid INT,\n",
        "  Type_Indica INT,\n",
        "  Type_Sativa INT,\n",
        "  Effects_Anxious INT,\n",
        "  Effects_Arouse INT,\n",
        "  Effects_Creative INT,\n",
        "  Effects_Dry INT,\n",
        "  Effects_Energetic INT,\n",
        "  Effects_Euphoric INT,\n",
        "  Effects_Focus INT,\n",
        "  Effects_Giggly INT,\n",
        "  Effects_Happy INT,\n",
        "  Effects_Horny INT,\n",
        "  Effects_Hungry INT,\n",
        "  Effects_Mouth INT,\n",
        "  Effects_Paranoid INT,\n",
        "  Effects_Relaxed INT,\n",
        "  Effects_Sleepy INT,\n",
        "  Effects_Talkative INT,\n",
        "  Effects_Tingly INT,\n",
        "  Effects_Uplift INT,\n",
        "  Ailment_Appetite INT,\n",
        "  Ailment_Depression INT,\n",
        "  Ailment_Inflammation INT,\n",
        "  Ailment_Insomnia INT,\n",
        "  Ailment_Lack INT,\n",
        "  Ailment_Muscle INT,\n",
        "  Ailment_Nausea INT,\n",
        "  Ailment_Pain INT,\n",
        "  Ailment_Seizure INT,\n",
        "  Ailment_Spasm INT,\n",
        "  Ailment_Stress INT,\n",
        "  Flavor_Ammonia INT,\n",
        "  Flavor_Apple INT,\n",
        "  Flavor_Apricot INT,\n",
        "  Flavor_Berry INT,\n",
        "  Flavor_Blueberry INT,\n",
        "  Flavor_Butter INT,\n",
        "  Flavor_Candy INT,\n",
        "  Flavor_Cheese INT,\n",
        "  Flavor_Chemical INT,\n",
        "  Flavor_Chestnut INT,\n",
        "  Flavor_Citrus INT,\n",
        "  Flavor_Coffee INT,\n",
        "  Flavor_Diesel INT,\n",
        "  Flavor_Earthy INT,\n",
        "  Flavor_Floral INT,\n",
        "  Flavor_Fruity INT,\n",
        "  Flavor_Grape INT,\n",
        "  Flavor_Grapefruit INT,\n",
        "  Flavor_Herbal INT,\n",
        "  Flavor_Honey INT,\n",
        "  Flavor_Lavender INT,\n",
        "  Flavor_Lemon INT,\n",
        "  Flavor_Lime INT,\n",
        "  Flavor_Mango INT,\n",
        "  Flavor_Melon INT,\n",
        "  Flavor_Menthol INT,\n",
        "  Flavor_Mint INT,\n",
        "  Flavor_Nutty INT,\n",
        "  Flavor_Orange INT,\n",
        "  Flavor_Peach INT,\n",
        "  Flavor_Pear INT,\n",
        "  Flavor_Pepper INT,\n",
        "  Flavor_Pine INT,\n",
        "  Flavor_Pineapple INT,\n",
        "  Flavor_Plum INT,\n",
        "  Flavor_Pungent INT,\n",
        "  Flavor_Rose INT,\n",
        "  Flavor_Sage INT,\n",
        "  Flavor_Skunk INT,\n",
        "  Flavor_Sour INT,\n",
        "  Flavor_Spicy INT,\n",
        "  Flavor_Strawberry INT,\n",
        "  Flavor_Sweet INT,\n",
        "  Flavor_Tangy INT,\n",
        "  Flavor_Tar INT,\n",
        "  Flavor_Tart INT,\n",
        "  Flavor_Tea INT,\n",
        "  Flavor_Tobacco INT,\n",
        "  Flavor_Tropical INT,\n",
        "  Flavor_Vanilla INT,\n",
        "  Flavor_Violet INT,\n",
        "  Flavor_Wood INT,\n",
        "  Description VARCHAR(2000)\n",
        ");\n",
        "\"\"\""
      ],
      "execution_count": 0,
      "outputs": []
    },
    {
      "cell_type": "code",
      "metadata": {
        "id": "PMm9uinwqDkO",
        "colab_type": "code",
        "colab": {}
      },
      "source": [
        "pg_curs.execute(create_strains_table)"
      ],
      "execution_count": 0,
      "outputs": []
    },
    {
      "cell_type": "code",
      "metadata": {
        "id": "8arKUwVmqHn8",
        "colab_type": "code",
        "colab": {}
      },
      "source": [
        "pg_conn.commit()"
      ],
      "execution_count": 0,
      "outputs": []
    },
    {
      "cell_type": "code",
      "metadata": {
        "id": "PKZoTegWtGyg",
        "colab_type": "code",
        "outputId": "17ab1ca0-c41d-466c-ae32-5db5fbfa382b",
        "colab": {
          "base_uri": "https://localhost:8080/",
          "height": 170
        }
      },
      "source": [
        "# We can query tables if we want to check\n",
        "# This is a clever optional thing, showing postgresql internals\n",
        "show_tables = \"\"\"\n",
        "SELECT\n",
        "   *\n",
        "FROM\n",
        "   pg_catalog.pg_tables\n",
        "WHERE\n",
        "   schemaname != 'pg_catalog'\n",
        "AND schemaname != 'information_schema';\n",
        "\"\"\"\n",
        "pg_curs.execute(show_tables)\n",
        "pg_curs.fetchall()"
      ],
      "execution_count": 0,
      "outputs": [
        {
          "output_type": "execute_result",
          "data": {
            "text/plain": [
              "[('public', 'strains_table', 'nhworfxj', None, True, False, False, False),\n",
              " ('public',\n",
              "  'strains_one_hot_table',\n",
              "  'nhworfxj',\n",
              "  None,\n",
              "  True,\n",
              "  False,\n",
              "  False,\n",
              "  False)]"
            ]
          },
          "metadata": {
            "tags": []
          },
          "execution_count": 17
        }
      ]
    },
    {
      "cell_type": "code",
      "metadata": {
        "id": "p7eUdNINznIO",
        "colab_type": "code",
        "colab": {}
      },
      "source": [
        "# strains[0]"
      ],
      "execution_count": 0,
      "outputs": []
    },
    {
      "cell_type": "code",
      "metadata": {
        "id": "rDxZ-cqWzqSp",
        "colab_type": "code",
        "outputId": "1943b096-a693-44a9-fb31-0e1b0dd81e5e",
        "colab": {
          "base_uri": "https://localhost:8080/",
          "height": 105
        }
      },
      "source": [
        "example_insert = \"\"\"\n",
        "INSERT INTO strains_one_hot_table\n",
        "(Strain, Type_Hybrid, Type_Indica, Type_Sativa, Effects_Anxious, Effects_Arouse, Effects_Creative, Effects_Dry, Effects_Energetic, Effects_Euphoric, Effects_Focus, Effects_Giggly, Effects_Happy, Effects_Horny, Effects_Hungry, Effects_Mouth, Effects_Paranoid, Effects_Relaxed, Effects_Sleepy, Effects_Talkative, Effects_Tingly, Effects_Uplift, Ailment_Appetite, Ailment_Depression, Ailment_Inflammation, Ailment_Insomnia, Ailment_Lack, Ailment_Muscle, Ailment_Nausea, Ailment_Pain, Ailment_Seizure, Ailment_Spasm, Ailment_Stress, Flavor_Ammonia, Flavor_Apple, Flavor_Apricot, Flavor_Berry, Flavor_Blueberry, Flavor_Butter, Flavor_Candy, Flavor_Cheese, Flavor_Chemical, Flavor_Chestnut, Flavor_Citrus, Flavor_Coffee, Flavor_Diesel, Flavor_Earthy, Flavor_Floral, Flavor_Fruity, Flavor_Grape, Flavor_Grapefruit, Flavor_Herbal, Flavor_Honey, Flavor_Lavender, Flavor_Lemon, Flavor_Lime, Flavor_Mango, Flavor_Melon, Flavor_Menthol, Flavor_Mint, Flavor_Nutty, Flavor_Orange, Flavor_Peach, Flavor_Pear, Flavor_Pepper, Flavor_Pine, Flavor_Pineapple, Flavor_Plum, Flavor_Pungent, Flavor_Rose, Flavor_Sage, Flavor_Skunk, Flavor_Sour, Flavor_Spicy, Flavor_Strawberry, Flavor_Sweet, Flavor_Tangy, Flavor_Tar, Flavor_Tart, Flavor_Tea, Flavor_Tobacco, Flavor_Tropical, Flavor_Vanilla, Flavor_Violet, Flavor_Wood, Description)\n",
        "VALUES \"\"\" + str(strains[1][1:]) + \";\"\n",
        "\n",
        "print(example_insert)"
      ],
      "execution_count": 0,
      "outputs": [
        {
          "output_type": "stream",
          "text": [
            "\n",
            "INSERT INTO strains_one_hot_table\n",
            "(Strain, Type_Hybrid, Type_Indica, Type_Sativa, Effects_Anxious, Effects_Arouse, Effects_Creative, Effects_Dry, Effects_Energetic, Effects_Euphoric, Effects_Focus, Effects_Giggly, Effects_Happy, Effects_Horny, Effects_Hungry, Effects_Mouth, Effects_Paranoid, Effects_Relaxed, Effects_Sleepy, Effects_Talkative, Effects_Tingly, Effects_Uplift, Ailment_Appetite, Ailment_Depression, Ailment_Inflammation, Ailment_Insomnia, Ailment_Lack, Ailment_Muscle, Ailment_Nausea, Ailment_Pain, Ailment_Seizure, Ailment_Spasm, Ailment_Stress, Flavor_Ammonia, Flavor_Apple, Flavor_Apricot, Flavor_Berry, Flavor_Blueberry, Flavor_Butter, Flavor_Candy, Flavor_Cheese, Flavor_Chemical, Flavor_Chestnut, Flavor_Citrus, Flavor_Coffee, Flavor_Diesel, Flavor_Earthy, Flavor_Floral, Flavor_Fruity, Flavor_Grape, Flavor_Grapefruit, Flavor_Herbal, Flavor_Honey, Flavor_Lavender, Flavor_Lemon, Flavor_Lime, Flavor_Mango, Flavor_Melon, Flavor_Menthol, Flavor_Mint, Flavor_Nutty, Flavor_Orange, Flavor_Peach, Flavor_Pear, Flavor_Pepper, Flavor_Pine, Flavor_Pineapple, Flavor_Plum, Flavor_Pungent, Flavor_Rose, Flavor_Sage, Flavor_Skunk, Flavor_Sour, Flavor_Spicy, Flavor_Strawberry, Flavor_Sweet, Flavor_Tangy, Flavor_Tar, Flavor_Tart, Flavor_Tea, Flavor_Tobacco, Flavor_Tropical, Flavor_Vanilla, Flavor_Violet, Flavor_Wood, Description)\n",
            "VALUES ('100 Og', 1, 0, 0, 0, 0, 1, 0, 1, 1, 1, 0, 0, 0, 0, 0, 0, 1, 0, 0, 1, 0, 0, 1, 0, 0, 0, 0, 0, 0, 0, 0, 0, 0, 0, 0, 0, 0, 0, 0, 0, 0, 0, 1, 0, 0, 1, 0, 0, 0, 0, 0, 0, 0, 0, 0, 0, 0, 0, 0, 0, 0, 0, 0, 0, 0, 0, 0, 0, 0, 0, 0, 0, 0, 0, 1, 0, 0, 0, 0, 0, 0, 0, 0, 0, '<p>This strain is named after its high price in its Hollywood home. As a 50/50 hybrid of indica and sativa, $100 OG does a great job offering pain relief with an alert, cerebral high.</p> $100 OG is a 50/50 hybrid strain that packs a strong punch. The name supposedly refers to both its strength and high price when it first started showing up in Hollywood. As a plant, $100 OG tends to produce large dark green buds with few stems. Users report a strong body effect of an indica for pain relief with the more alert, cerebral feeling thanks to its sativa side.');\n"
          ],
          "name": "stdout"
        }
      ]
    },
    {
      "cell_type": "code",
      "metadata": {
        "id": "Rp6C9JVjtRM3",
        "colab_type": "code",
        "colab": {}
      },
      "source": [
        "# How do we do this for all characters? Loops!\n",
        "for strain in strains:\n",
        "  insert_strain = \"\"\"\n",
        "    INSERT INTO strains_one_hot_table\n",
        "    (Strain, Type_Hybrid, Type_Indica, Type_Sativa, Effects_Anxious, Effects_Arouse, Effects_Creative, Effects_Dry, Effects_Energetic, Effects_Euphoric, Effects_Focus, Effects_Giggly, Effects_Happy, Effects_Horny, Effects_Hungry, Effects_Mouth, Effects_Paranoid, Effects_Relaxed, Effects_Sleepy, Effects_Talkative, Effects_Tingly, Effects_Uplift, Ailment_Appetite, Ailment_Depression, Ailment_Inflammation, Ailment_Insomnia, Ailment_Lack, Ailment_Muscle, Ailment_Nausea, Ailment_Pain, Ailment_Seizure, Ailment_Spasm, Ailment_Stress, Flavor_Ammonia, Flavor_Apple, Flavor_Apricot, Flavor_Berry, Flavor_Blueberry, Flavor_Butter, Flavor_Candy, Flavor_Cheese, Flavor_Chemical, Flavor_Chestnut, Flavor_Citrus, Flavor_Coffee, Flavor_Diesel, Flavor_Earthy, Flavor_Floral, Flavor_Fruity, Flavor_Grape, Flavor_Grapefruit, Flavor_Herbal, Flavor_Honey, Flavor_Lavender, Flavor_Lemon, Flavor_Lime, Flavor_Mango, Flavor_Melon, Flavor_Menthol, Flavor_Mint, Flavor_Nutty, Flavor_Orange, Flavor_Peach, Flavor_Pear, Flavor_Pepper, Flavor_Pine, Flavor_Pineapple, Flavor_Plum, Flavor_Pungent, Flavor_Rose, Flavor_Sage, Flavor_Skunk, Flavor_Sour, Flavor_Spicy, Flavor_Strawberry, Flavor_Sweet, Flavor_Tangy, Flavor_Tar, Flavor_Tart, Flavor_Tea, Flavor_Tobacco, Flavor_Tropical, Flavor_Vanilla, Flavor_Violet, Flavor_Wood, Description)\n",
        "    VALUES \"\"\" + str(strain[1:]) + \";\"\n",
        "  pg_curs.execute(insert_strain)"
      ],
      "execution_count": 0,
      "outputs": []
    },
    {
      "cell_type": "code",
      "metadata": {
        "id": "NXzqQxj-uE8b",
        "colab_type": "code",
        "colab": {}
      },
      "source": [
        "pg_conn.commit()"
      ],
      "execution_count": 0,
      "outputs": []
    }
  ]
}