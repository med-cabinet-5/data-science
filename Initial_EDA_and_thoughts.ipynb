{
  "nbformat": 4,
  "nbformat_minor": 0,
  "metadata": {
    "colab": {
      "name": "Initial EDA and thoughts.ipynb",
      "provenance": [],
      "collapsed_sections": []
    },
    "kernelspec": {
      "name": "python3",
      "display_name": "Python 3"
    }
  },
  "cells": [
    {
      "cell_type": "code",
      "metadata": {
        "id": "21Bs6ckvdNyn",
        "colab_type": "code",
        "colab": {}
      },
      "source": [
        "# Basic imports\n",
        "import numpy as np\n",
        "import pandas as pd"
      ],
      "execution_count": 0,
      "outputs": []
    },
    {
      "cell_type": "code",
      "metadata": {
        "id": "kbjXqf2ectaN",
        "colab_type": "code",
        "colab": {}
      },
      "source": [
        "# Pull data from our repo\n",
        "df = pd.read_csv('https://raw.githubusercontent.com/med-cabinet-5/data-science/master/cannabis.csv')"
      ],
      "execution_count": 0,
      "outputs": []
    },
    {
      "cell_type": "code",
      "metadata": {
        "id": "6EFnJbW3cyAN",
        "colab_type": "code",
        "colab": {
          "base_uri": "https://localhost:8080/",
          "height": 204
        },
        "outputId": "a1ba5635-1fe9-46a6-b038-66b74b85f647"
      },
      "source": [
        "# Most basic EDA possible\n",
        "df.head()"
      ],
      "execution_count": 6,
      "outputs": [
        {
          "output_type": "execute_result",
          "data": {
            "text/html": [
              "<div>\n",
              "<style scoped>\n",
              "    .dataframe tbody tr th:only-of-type {\n",
              "        vertical-align: middle;\n",
              "    }\n",
              "\n",
              "    .dataframe tbody tr th {\n",
              "        vertical-align: top;\n",
              "    }\n",
              "\n",
              "    .dataframe thead th {\n",
              "        text-align: right;\n",
              "    }\n",
              "</style>\n",
              "<table border=\"1\" class=\"dataframe\">\n",
              "  <thead>\n",
              "    <tr style=\"text-align: right;\">\n",
              "      <th></th>\n",
              "      <th>Strain</th>\n",
              "      <th>Type</th>\n",
              "      <th>Rating</th>\n",
              "      <th>Effects</th>\n",
              "      <th>Flavor</th>\n",
              "      <th>Description</th>\n",
              "    </tr>\n",
              "  </thead>\n",
              "  <tbody>\n",
              "    <tr>\n",
              "      <th>0</th>\n",
              "      <td>100-Og</td>\n",
              "      <td>hybrid</td>\n",
              "      <td>4.0</td>\n",
              "      <td>Creative,Energetic,Tingly,Euphoric,Relaxed</td>\n",
              "      <td>Earthy,Sweet,Citrus</td>\n",
              "      <td>$100 OG is a 50/50 hybrid strain that packs a ...</td>\n",
              "    </tr>\n",
              "    <tr>\n",
              "      <th>1</th>\n",
              "      <td>98-White-Widow</td>\n",
              "      <td>hybrid</td>\n",
              "      <td>4.7</td>\n",
              "      <td>Relaxed,Aroused,Creative,Happy,Energetic</td>\n",
              "      <td>Flowery,Violet,Diesel</td>\n",
              "      <td>The ‘98 Aloha White Widow is an especially pot...</td>\n",
              "    </tr>\n",
              "    <tr>\n",
              "      <th>2</th>\n",
              "      <td>1024</td>\n",
              "      <td>sativa</td>\n",
              "      <td>4.4</td>\n",
              "      <td>Uplifted,Happy,Relaxed,Energetic,Creative</td>\n",
              "      <td>Spicy/Herbal,Sage,Woody</td>\n",
              "      <td>1024 is a sativa-dominant hybrid bred in Spain...</td>\n",
              "    </tr>\n",
              "    <tr>\n",
              "      <th>3</th>\n",
              "      <td>13-Dawgs</td>\n",
              "      <td>hybrid</td>\n",
              "      <td>4.2</td>\n",
              "      <td>Tingly,Creative,Hungry,Relaxed,Uplifted</td>\n",
              "      <td>Apricot,Citrus,Grapefruit</td>\n",
              "      <td>13 Dawgs is a hybrid of G13 and Chemdawg genet...</td>\n",
              "    </tr>\n",
              "    <tr>\n",
              "      <th>4</th>\n",
              "      <td>24K-Gold</td>\n",
              "      <td>hybrid</td>\n",
              "      <td>4.6</td>\n",
              "      <td>Happy,Relaxed,Euphoric,Uplifted,Talkative</td>\n",
              "      <td>Citrus,Earthy,Orange</td>\n",
              "      <td>Also known as Kosher Tangie, 24k Gold is a 60%...</td>\n",
              "    </tr>\n",
              "  </tbody>\n",
              "</table>\n",
              "</div>"
            ],
            "text/plain": [
              "           Strain  ...                                        Description\n",
              "0          100-Og  ...  $100 OG is a 50/50 hybrid strain that packs a ...\n",
              "1  98-White-Widow  ...  The ‘98 Aloha White Widow is an especially pot...\n",
              "2            1024  ...  1024 is a sativa-dominant hybrid bred in Spain...\n",
              "3        13-Dawgs  ...  13 Dawgs is a hybrid of G13 and Chemdawg genet...\n",
              "4        24K-Gold  ...  Also known as Kosher Tangie, 24k Gold is a 60%...\n",
              "\n",
              "[5 rows x 6 columns]"
            ]
          },
          "metadata": {
            "tags": []
          },
          "execution_count": 6
        }
      ]
    },
    {
      "cell_type": "code",
      "metadata": {
        "id": "NG0GJEIHcyH0",
        "colab_type": "code",
        "colab": {
          "base_uri": "https://localhost:8080/",
          "height": 35
        },
        "outputId": "e2ef38c2-09be-4689-884e-f93ac4a9d183"
      },
      "source": [
        "# Making a quick count of unique effects\n",
        "list = []\n",
        "for i in range(len(df)):\n",
        "    for effect in df['Effects'].iloc[i].split(','):\n",
        "        if effect not in list:\n",
        "            list.append(effect)\n",
        "print(f'There are {len(list)} unique reported effects among the {len(df)} strains.')"
      ],
      "execution_count": 7,
      "outputs": [
        {
          "output_type": "stream",
          "text": [
            "There are 16 unique reported effects among the 2351 strains.\n"
          ],
          "name": "stdout"
        }
      ]
    },
    {
      "cell_type": "code",
      "metadata": {
        "id": "UWYNz165cyL1",
        "colab_type": "code",
        "colab": {
          "base_uri": "https://localhost:8080/",
          "height": 305
        },
        "outputId": "04be6839-5fdd-4d8e-8903-1656dc931ff2"
      },
      "source": [
        "list"
      ],
      "execution_count": 8,
      "outputs": [
        {
          "output_type": "execute_result",
          "data": {
            "text/plain": [
              "['Creative',\n",
              " 'Energetic',\n",
              " 'Tingly',\n",
              " 'Euphoric',\n",
              " 'Relaxed',\n",
              " 'Aroused',\n",
              " 'Happy',\n",
              " 'Uplifted',\n",
              " 'Hungry',\n",
              " 'Talkative',\n",
              " 'None',\n",
              " 'Giggly',\n",
              " 'Focused',\n",
              " 'Sleepy',\n",
              " 'Dry',\n",
              " 'Mouth']"
            ]
          },
          "metadata": {
            "tags": []
          },
          "execution_count": 8
        }
      ]
    },
    {
      "cell_type": "markdown",
      "metadata": {
        "id": "kOwDuAUukqZI",
        "colab_type": "text"
      },
      "source": [
        "# A little bit silly with \"None\", \"Dry\" and \"Mouth\". But it's hardly important for now."
      ]
    },
    {
      "cell_type": "code",
      "metadata": {
        "id": "Ige4-TBVcyD0",
        "colab_type": "code",
        "colab": {}
      },
      "source": [
        "# Make a contrived user-preference example\n",
        "preferences = ['Tingly', 'Aroused', 'Giggly']"
      ],
      "execution_count": 0,
      "outputs": []
    },
    {
      "cell_type": "code",
      "metadata": {
        "id": "IS-aNJ1dc9AX",
        "colab_type": "code",
        "colab": {}
      },
      "source": [
        "# This cell will make an array which counts the number of desired effects\n",
        "# matched by each individual strain\n",
        "recommendations = np.zeros_like(df['Effects'])\n",
        "for i in range(len(df)):\n",
        "    effects = df['Effects'].iloc[i].split(',')\n",
        "    for effect in effects:\n",
        "      if effect in preferences:\n",
        "        recommendations[i] += 1        "
      ],
      "execution_count": 0,
      "outputs": []
    },
    {
      "cell_type": "code",
      "metadata": {
        "id": "q90dzYx0dMSX",
        "colab_type": "code",
        "colab": {
          "base_uri": "https://localhost:8080/",
          "height": 35
        },
        "outputId": "69dd0f83-834b-43cc-8bc9-3849eae52c52"
      },
      "source": [
        "# This cell finds the indexes of any strains tied for the best match\n",
        "matching_strains = np.argwhere(recommendations == np.amax(recommendations))\n",
        "matching_strains = [strain[0] for strain in matching_strains]\n",
        "matching_strains"
      ],
      "execution_count": 17,
      "outputs": [
        {
          "output_type": "execute_result",
          "data": {
            "text/plain": [
              "[144, 515, 765, 2265]"
            ]
          },
          "metadata": {
            "tags": []
          },
          "execution_count": 17
        }
      ]
    },
    {
      "cell_type": "code",
      "metadata": {
        "id": "iaWcwLksfSAM",
        "colab_type": "code",
        "colab": {
          "base_uri": "https://localhost:8080/",
          "height": 173
        },
        "outputId": "b3a2681e-7ff2-42ff-ccb0-a79be9fb5ca7"
      },
      "source": [
        "# Then as a tie-breaker we use 'Rating'\n",
        "df.iloc[matching_strains].sort_values(by='Rating', ascending=False)"
      ],
      "execution_count": 22,
      "outputs": [
        {
          "output_type": "execute_result",
          "data": {
            "text/html": [
              "<div>\n",
              "<style scoped>\n",
              "    .dataframe tbody tr th:only-of-type {\n",
              "        vertical-align: middle;\n",
              "    }\n",
              "\n",
              "    .dataframe tbody tr th {\n",
              "        vertical-align: top;\n",
              "    }\n",
              "\n",
              "    .dataframe thead th {\n",
              "        text-align: right;\n",
              "    }\n",
              "</style>\n",
              "<table border=\"1\" class=\"dataframe\">\n",
              "  <thead>\n",
              "    <tr style=\"text-align: right;\">\n",
              "      <th></th>\n",
              "      <th>Strain</th>\n",
              "      <th>Type</th>\n",
              "      <th>Rating</th>\n",
              "      <th>Effects</th>\n",
              "      <th>Flavor</th>\n",
              "      <th>Description</th>\n",
              "    </tr>\n",
              "  </thead>\n",
              "  <tbody>\n",
              "    <tr>\n",
              "      <th>2265</th>\n",
              "      <td>White-Bubblegum</td>\n",
              "      <td>indica</td>\n",
              "      <td>5.0</td>\n",
              "      <td>Giggly,Aroused,Sleepy,Talkative,Tingly</td>\n",
              "      <td>Sweet,Earthy,Flowery</td>\n",
              "      <td>White Bubblegum by THClones is a sweet and sed...</td>\n",
              "    </tr>\n",
              "    <tr>\n",
              "      <th>515</th>\n",
              "      <td>Cherry-Sherbet</td>\n",
              "      <td>hybrid</td>\n",
              "      <td>4.3</td>\n",
              "      <td>Sleepy,Giggly,Aroused,Talkative,Tingly</td>\n",
              "      <td>Berry,Sweet,Diesel</td>\n",
              "      <td>Cherry Sherbet is an indica-dominant delight. ...</td>\n",
              "    </tr>\n",
              "    <tr>\n",
              "      <th>765</th>\n",
              "      <td>Enemy-Of-The-State</td>\n",
              "      <td>indica</td>\n",
              "      <td>4.1</td>\n",
              "      <td>Euphoric,Aroused,Focused,Tingly,Giggly</td>\n",
              "      <td>Spicy/Herbal,Tree,Fruit,Earthy</td>\n",
              "      <td>Enemy of the State by Super Strains is an old ...</td>\n",
              "    </tr>\n",
              "    <tr>\n",
              "      <th>144</th>\n",
              "      <td>Avalon</td>\n",
              "      <td>hybrid</td>\n",
              "      <td>3.6</td>\n",
              "      <td>Aroused,Tingly,Hungry,Uplifted,Giggly</td>\n",
              "      <td>Sweet,Earthy,Nutty</td>\n",
              "      <td>A selectively bred cross between Afghani and B...</td>\n",
              "    </tr>\n",
              "  </tbody>\n",
              "</table>\n",
              "</div>"
            ],
            "text/plain": [
              "                  Strain  ...                                        Description\n",
              "2265     White-Bubblegum  ...  White Bubblegum by THClones is a sweet and sed...\n",
              "515       Cherry-Sherbet  ...  Cherry Sherbet is an indica-dominant delight. ...\n",
              "765   Enemy-Of-The-State  ...  Enemy of the State by Super Strains is an old ...\n",
              "144               Avalon  ...  A selectively bred cross between Afghani and B...\n",
              "\n",
              "[4 rows x 6 columns]"
            ]
          },
          "metadata": {
            "tags": []
          },
          "execution_count": 22
        }
      ]
    },
    {
      "cell_type": "code",
      "metadata": {
        "id": "LSpKmcmAfVmt",
        "colab_type": "code",
        "colab": {
          "base_uri": "https://localhost:8080/",
          "height": 35
        },
        "outputId": "bb1d8d55-0386-4c2e-8a88-044699d37618"
      },
      "source": [
        "# And finally a strain suggestion without using ML in any meaningful way.\n",
        "recommendation = df.iloc[matching_strains].sort_values(by='Rating', ascending=False).iloc[0]['Strain']\n",
        "print(f'We recommend you try {recommendation}.')"
      ],
      "execution_count": 23,
      "outputs": [
        {
          "output_type": "stream",
          "text": [
            "We recommend you try White-Bubblegum.\n"
          ],
          "name": "stdout"
        }
      ]
    },
    {
      "cell_type": "markdown",
      "metadata": {
        "id": "DOKaDPBTmYoc",
        "colab_type": "text"
      },
      "source": [
        "# I'm actually a bit befuddled by the idea of attempting to turn this into an ML problem.\n",
        "- We aren't dealing with separate reviews\n",
        "- Therefore we have 1 'observation' of each strain\n",
        "- Multiclass(2350) classification seems ridiculous given the data we have\n",
        "- Regression sounds even more absurd\n",
        "\n",
        "# If we were to have a problem statement akin to \"recommend marijuana **type** based on desired effects,\" or \"determine the characteristics of a theoretically optimal(_highest rated_) weed strain,\" then we would have a classical, well-defined situation.\n",
        "\n",
        "# I look forward to all of your perspectives on the matter.\n",
        "\n"
      ]
    }
  ]
}